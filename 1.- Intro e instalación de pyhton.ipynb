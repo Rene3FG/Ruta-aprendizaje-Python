{
 "cells": [
  {
   "cell_type": "markdown",
   "id": "634a3f03-30f4-4df2-b794-7ba0a88c442a",
   "metadata": {},
   "source": [
    "# 1.-Intro e instalación de python"
   ]
  },
  {
   "cell_type": "code",
   "execution_count": 1,
   "id": "e7a56e9b-47ca-4570-88ec-95473c24e319",
   "metadata": {},
   "outputs": [
    {
     "data": {
      "text/plain": [
       "16"
      ]
     },
     "execution_count": 1,
     "metadata": {},
     "output_type": "execute_result"
    }
   ],
   "source": [
    "8+8"
   ]
  },
  {
   "cell_type": "code",
   "execution_count": 2,
   "id": "1698321b-9f5f-4ed3-aa19-6c4d76f6bfcf",
   "metadata": {},
   "outputs": [
    {
     "data": {
      "text/plain": [
       "34"
      ]
     },
     "execution_count": 2,
     "metadata": {},
     "output_type": "execute_result"
    }
   ],
   "source": [
    "4+5*6"
   ]
  }
 ],
 "metadata": {
  "kernelspec": {
   "display_name": "Python 3 (ipykernel)",
   "language": "python",
   "name": "python3"
  },
  "language_info": {
   "codemirror_mode": {
    "name": "ipython",
    "version": 3
   },
   "file_extension": ".py",
   "mimetype": "text/x-python",
   "name": "python",
   "nbconvert_exporter": "python",
   "pygments_lexer": "ipython3",
   "version": "3.9.13"
  }
 },
 "nbformat": 4,
 "nbformat_minor": 5
}
