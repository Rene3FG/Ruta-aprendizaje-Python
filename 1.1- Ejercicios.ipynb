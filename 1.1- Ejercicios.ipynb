{
 "cells": [
  {
   "cell_type": "markdown",
   "id": "cde7df43-24af-4171-8257-b3a0e5abc672",
   "metadata": {},
   "source": [
    "# Ejercicios"
   ]
  },
  {
   "cell_type": "code",
   "execution_count": 20,
   "id": "836a1a53-3b96-4959-8eb7-3ee61851bc4f",
   "metadata": {},
   "outputs": [],
   "source": [
    "### 1. En la división aritmética, por ejemplo 17/6, el cociente es 2 y el residuo es 5. De tal manera que 6*2+5=17\n",
    "### En Phyton, el operador que muestra el cociente (parte entera de la divi\u0002sión 17/6) es //. Y el operador que calcula el residuo (resto, o módulo) es %.\n",
    "### Utiliza el prompt de Anaconda para determinar si los siguientes enunciados son verdaderos o \n",
    "### falsos."
   ]
  },
  {
   "cell_type": "code",
   "execution_count": 10,
   "id": "0183ee94-b6a4-4e38-82a9-29dcd95ea2c1",
   "metadata": {},
   "outputs": [
    {
     "data": {
      "text/plain": [
       "2"
      ]
     },
     "execution_count": 10,
     "metadata": {},
     "output_type": "execute_result"
    }
   ],
   "source": [
    "8//3"
   ]
  },
  {
   "cell_type": "code",
   "execution_count": 11,
   "id": "62d4c21f-bd1e-40a2-a166-14e9903c1a7d",
   "metadata": {},
   "outputs": [
    {
     "data": {
      "text/plain": [
       "2"
      ]
     },
     "execution_count": 11,
     "metadata": {},
     "output_type": "execute_result"
    }
   ],
   "source": [
    "8%3"
   ]
  },
  {
   "cell_type": "code",
   "execution_count": 12,
   "id": "a9034a6f-3267-4540-a692-d33aa3f2fe5e",
   "metadata": {},
   "outputs": [
    {
     "data": {
      "text/plain": [
       "18"
      ]
     },
     "execution_count": 12,
     "metadata": {},
     "output_type": "execute_result"
    }
   ],
   "source": [
    "111//6"
   ]
  },
  {
   "cell_type": "code",
   "execution_count": 13,
   "id": "636d12ae-c27d-41d5-8dc2-a0fbda0dbe9e",
   "metadata": {},
   "outputs": [
    {
     "data": {
      "text/plain": [
       "0"
      ]
     },
     "execution_count": 13,
     "metadata": {},
     "output_type": "execute_result"
    }
   ],
   "source": [
    "194%2"
   ]
  },
  {
   "cell_type": "code",
   "execution_count": 14,
   "id": "f80a3eaa-4f95-408c-9d9a-27bc409013d5",
   "metadata": {},
   "outputs": [
    {
     "data": {
      "text/plain": [
       "21"
      ]
     },
     "execution_count": 14,
     "metadata": {},
     "output_type": "execute_result"
    }
   ],
   "source": [
    "326//15"
   ]
  },
  {
   "cell_type": "code",
   "execution_count": 15,
   "id": "7dc096fc-5143-472c-b146-2d8d93fb1675",
   "metadata": {},
   "outputs": [
    {
     "data": {
      "text/plain": [
       "103"
      ]
     },
     "execution_count": 15,
     "metadata": {},
     "output_type": "execute_result"
    }
   ],
   "source": [
    "978%125"
   ]
  },
  {
   "cell_type": "code",
   "execution_count": 16,
   "id": "857a6ccb-8ae2-4816-bb6e-d36e29279fc4",
   "metadata": {},
   "outputs": [
    {
     "data": {
      "text/plain": [
       "1"
      ]
     },
     "execution_count": 16,
     "metadata": {},
     "output_type": "execute_result"
    }
   ],
   "source": [
    "25%3"
   ]
  },
  {
   "cell_type": "markdown",
   "id": "5f90b401-5865-40ac-bf0c-224936dd3574",
   "metadata": {},
   "source": [
    "2. Utiliza Anaconda Prompt para realizar los siguientes cálculos. Identifica aquel que genera un \n",
    "error y explica la razón por la que ocurre"
   ]
  },
  {
   "cell_type": "code",
   "execution_count": 21,
   "id": "ae22020d-bb7c-41ef-9b09-5863384568c3",
   "metadata": {},
   "outputs": [
    {
     "data": {
      "text/plain": [
       "6.25"
      ]
     },
     "execution_count": 21,
     "metadata": {},
     "output_type": "execute_result"
    }
   ],
   "source": [
    "25/4"
   ]
  },
  {
   "cell_type": "code",
   "execution_count": 22,
   "id": "eeb026f7-f1fc-4eee-871a-038d7fad7610",
   "metadata": {},
   "outputs": [
    {
     "data": {
      "text/plain": [
       "6"
      ]
     },
     "execution_count": 22,
     "metadata": {},
     "output_type": "execute_result"
    }
   ],
   "source": [
    "24//4"
   ]
  },
  {
   "cell_type": "code",
   "execution_count": 23,
   "id": "574d6727-ddbf-42e4-b039-35924f764f1d",
   "metadata": {},
   "outputs": [
    {
     "data": {
      "text/plain": [
       "0.0"
      ]
     },
     "execution_count": 23,
     "metadata": {},
     "output_type": "execute_result"
    }
   ],
   "source": [
    "0/4"
   ]
  },
  {
   "cell_type": "code",
   "execution_count": 24,
   "id": "5eaeec23-0055-478e-8dac-45be552b0fd2",
   "metadata": {},
   "outputs": [
    {
     "data": {
      "text/plain": [
       "0"
      ]
     },
     "execution_count": 24,
     "metadata": {},
     "output_type": "execute_result"
    }
   ],
   "source": [
    "0//4"
   ]
  },
  {
   "cell_type": "code",
   "execution_count": 25,
   "id": "729e00d3-9613-4109-b937-39d4cec60ac3",
   "metadata": {},
   "outputs": [
    {
     "ename": "ZeroDivisionError",
     "evalue": "division by zero",
     "output_type": "error",
     "traceback": [
      "\u001b[1;31m---------------------------------------------------------------------------\u001b[0m",
      "\u001b[1;31mZeroDivisionError\u001b[0m                         Traceback (most recent call last)",
      "\u001b[1;32m~\\AppData\\Local\\Temp\\ipykernel_21216\\1020363729.py\u001b[0m in \u001b[0;36m<module>\u001b[1;34m\u001b[0m\n\u001b[1;32m----> 1\u001b[1;33m \u001b[1;36m25\u001b[0m\u001b[1;33m/\u001b[0m\u001b[1;36m0\u001b[0m\u001b[1;33m\u001b[0m\u001b[1;33m\u001b[0m\u001b[0m\n\u001b[0m",
      "\u001b[1;31mZeroDivisionError\u001b[0m: division by zero"
     ]
    }
   ],
   "source": [
    "25/0"
   ]
  },
  {
   "cell_type": "markdown",
   "id": "d2adc395-4647-4885-961f-46f9126497d1",
   "metadata": {},
   "source": [
    "// ERROR ARITMETICO, NO ES POSIBLE REALIZAR DIVISIONES ENTRE 0"
   ]
  },
  {
   "cell_type": "code",
   "execution_count": 26,
   "id": "7f94f318-8a52-4492-a183-d9456d13d6a1",
   "metadata": {},
   "outputs": [
    {
     "ename": "ZeroDivisionError",
     "evalue": "integer division or modulo by zero",
     "output_type": "error",
     "traceback": [
      "\u001b[1;31m---------------------------------------------------------------------------\u001b[0m",
      "\u001b[1;31mZeroDivisionError\u001b[0m                         Traceback (most recent call last)",
      "\u001b[1;32m~\\AppData\\Local\\Temp\\ipykernel_21216\\1655551251.py\u001b[0m in \u001b[0;36m<module>\u001b[1;34m\u001b[0m\n\u001b[1;32m----> 1\u001b[1;33m \u001b[1;36m25\u001b[0m\u001b[1;33m//\u001b[0m\u001b[1;36m0\u001b[0m\u001b[1;33m\u001b[0m\u001b[1;33m\u001b[0m\u001b[0m\n\u001b[0m",
      "\u001b[1;31mZeroDivisionError\u001b[0m: integer division or modulo by zero"
     ]
    }
   ],
   "source": [
    "25//0"
   ]
  },
  {
   "cell_type": "markdown",
   "id": "54c5bfe5-704f-449a-b300-5d77e75cb531",
   "metadata": {},
   "source": [
    "// NO ES POSIBLE ENCONTRAR ALGUN NUMEO QUE AL MULTIPLICARSE POR 0 RESULTE EN NUMEREO 25"
   ]
  },
  {
   "cell_type": "markdown",
   "id": "f347ab4c-9b1f-44c3-a122-7a577b222b6c",
   "metadata": {},
   "source": [
    "3. Utiliza Jupyter Notebook y JupiterLab para realizar los siguientes cálculos. Guarda tus resulta\u0002dos en un archivo con nombre prueba2. Identifica aquel que genera un error y explica la razón \n",
    "por la que ocurre."
   ]
  },
  {
   "cell_type": "code",
   "execution_count": 27,
   "id": "0e4b36b2-50c2-4d8f-a30c-0142b5e4de1a",
   "metadata": {},
   "outputs": [
    {
     "data": {
      "text/plain": [
       "1.0"
      ]
     },
     "execution_count": 27,
     "metadata": {},
     "output_type": "execute_result"
    }
   ],
   "source": [
    "32/8-3"
   ]
  },
  {
   "cell_type": "code",
   "execution_count": 28,
   "id": "37b33e28-07d2-4c62-aa28-db453d4d22c8",
   "metadata": {},
   "outputs": [
    {
     "data": {
      "text/plain": [
       "1"
      ]
     },
     "execution_count": 28,
     "metadata": {},
     "output_type": "execute_result"
    }
   ],
   "source": [
    "32//8-3"
   ]
  },
  {
   "cell_type": "code",
   "execution_count": 29,
   "id": "3bca4346-5647-4ef9-9eeb-8bd80e03b877",
   "metadata": {},
   "outputs": [
    {
     "data": {
      "text/plain": [
       "6.4"
      ]
     },
     "execution_count": 29,
     "metadata": {},
     "output_type": "execute_result"
    }
   ],
   "source": [
    "32/(8-3)"
   ]
  },
  {
   "cell_type": "code",
   "execution_count": 30,
   "id": "a8141a5f-39d7-4806-9b83-def01c8677f1",
   "metadata": {},
   "outputs": [
    {
     "data": {
      "text/plain": [
       "6"
      ]
     },
     "execution_count": 30,
     "metadata": {},
     "output_type": "execute_result"
    }
   ],
   "source": [
    "32//(8-3)"
   ]
  },
  {
   "cell_type": "code",
   "execution_count": 31,
   "id": "3be717f5-1229-4065-bb59-eb9acae3c958",
   "metadata": {},
   "outputs": [
    {
     "ename": "ZeroDivisionError",
     "evalue": "division by zero",
     "output_type": "error",
     "traceback": [
      "\u001b[1;31m---------------------------------------------------------------------------\u001b[0m",
      "\u001b[1;31mZeroDivisionError\u001b[0m                         Traceback (most recent call last)",
      "\u001b[1;32m~\\AppData\\Local\\Temp\\ipykernel_21216\\2793305556.py\u001b[0m in \u001b[0;36m<module>\u001b[1;34m\u001b[0m\n\u001b[1;32m----> 1\u001b[1;33m \u001b[1;36m32\u001b[0m\u001b[1;33m/\u001b[0m\u001b[1;33m(\u001b[0m\u001b[1;36m8\u001b[0m\u001b[1;33m-\u001b[0m\u001b[1;36m8\u001b[0m\u001b[1;33m)\u001b[0m\u001b[1;33m\u001b[0m\u001b[1;33m\u001b[0m\u001b[0m\n\u001b[0m",
      "\u001b[1;31mZeroDivisionError\u001b[0m: division by zero"
     ]
    }
   ],
   "source": [
    "32/(8-8)"
   ]
  },
  {
   "cell_type": "markdown",
   "id": "b4e7ed5d-116a-4531-bdbd-8aeae0e8df06",
   "metadata": {},
   "source": [
    "// OPERACIÓN NO REALIZABLE, YA QUE AL APLICAR LA JERARQUIA DE OPERACIONES, TENDRIAMOS UNA DIVISION POR 0"
   ]
  },
  {
   "cell_type": "code",
   "execution_count": 32,
   "id": "b8dc75d2-3d0c-4311-9bee-4a88ef3f2b46",
   "metadata": {},
   "outputs": [
    {
     "data": {
      "text/plain": [
       "10.666666666666666"
      ]
     },
     "execution_count": 32,
     "metadata": {},
     "output_type": "execute_result"
    }
   ],
   "source": [
    "32/(8-5)"
   ]
  }
 ],
 "metadata": {
  "kernelspec": {
   "display_name": "Python 3 (ipykernel)",
   "language": "python",
   "name": "python3"
  },
  "language_info": {
   "codemirror_mode": {
    "name": "ipython",
    "version": 3
   },
   "file_extension": ".py",
   "mimetype": "text/x-python",
   "name": "python",
   "nbconvert_exporter": "python",
   "pygments_lexer": "ipython3",
   "version": "3.9.13"
  }
 },
 "nbformat": 4,
 "nbformat_minor": 5
}
