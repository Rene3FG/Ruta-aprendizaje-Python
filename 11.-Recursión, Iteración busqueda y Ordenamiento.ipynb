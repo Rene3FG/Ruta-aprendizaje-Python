{
 "cells": [
  {
   "cell_type": "markdown",
   "id": "c62ad494-a83c-4813-b714-1de3c79b7fe8",
   "metadata": {},
   "source": [
    "# 11.-Recursión, Búsqueda, Ordenamiento, Iteración"
   ]
  },
  {
   "cell_type": "markdown",
   "id": "0ef859f9-42a3-4c99-acf6-4aef58fec780",
   "metadata": {},
   "source": [
    "## 11.2.- Algoritmos iterativos y Recursivos"
   ]
  },
  {
   "cell_type": "markdown",
   "id": "791ef129-54a0-40aa-9177-da4422d09c58",
   "metadata": {},
   "source": [
    "### 11.2.1.- Fibonacci"
   ]
  },
  {
   "cell_type": "markdown",
   "id": "46e9d8f2-9fd2-4f84-9fef-1d45fee9bcc1",
   "metadata": {},
   "source": [
    "Vamos a armar la sucesión de Fibonacci - Comenamos definiendola. Recuerda que los primeros 2 numeros, son 0 y 1, y los numeros subsecuentes son la suma de los 2 anteriores"
   ]
  },
  {
   "cell_type": "code",
   "execution_count": 2,
   "id": "7221f5f0-f2e3-4c4f-a036-b7c0477a8114",
   "metadata": {},
   "outputs": [],
   "source": [
    "def fibonacci(n):\n",
    "    if n in (0,1):\n",
    "        return n\n",
    "    else:\n",
    "        return fibonacci(n-1)+fibonacci(n-2)\n",
    "    "
   ]
  },
  {
   "cell_type": "markdown",
   "id": "3c04859c-cf6d-4850-8e37-addd2a130a09",
   "metadata": {},
   "source": [
    "Ahora vamos a probarla, arma un for que muestre lo valores Fibonacci de 0 a 40. "
   ]
  },
  {
   "cell_type": "code",
   "execution_count": 7,
   "id": "39156c16-41fa-4aab-ad45-86cc1b8f9e99",
   "metadata": {},
   "outputs": [
    {
     "name": "stdout",
     "output_type": "stream",
     "text": [
      "k(0)=0\n",
      "k(1)=1\n",
      "k(2)=1\n",
      "k(3)=2\n",
      "k(4)=3\n",
      "k(5)=5\n",
      "k(6)=8\n",
      "k(7)=13\n",
      "k(8)=21\n",
      "k(9)=34\n",
      "k(10)=55\n",
      "k(11)=89\n",
      "k(12)=144\n",
      "k(13)=233\n",
      "k(14)=377\n",
      "k(15)=610\n",
      "k(16)=987\n",
      "k(17)=1597\n",
      "k(18)=2584\n",
      "k(19)=4181\n",
      "k(20)=6765\n",
      "k(21)=10946\n",
      "k(22)=17711\n",
      "k(23)=28657\n",
      "k(24)=46368\n",
      "k(25)=75025\n",
      "k(26)=121393\n",
      "k(27)=196418\n",
      "k(28)=317811\n",
      "k(29)=514229\n",
      "k(30)=832040\n",
      "k(31)=1346269\n",
      "k(32)=2178309\n",
      "k(33)=3524578\n",
      "k(34)=5702887\n",
      "k(35)=9227465\n",
      "k(36)=14930352\n",
      "k(37)=24157817\n",
      "k(38)=39088169\n",
      "k(39)=63245986\n",
      "k(40)=102334155\n"
     ]
    }
   ],
   "source": [
    "for n in range(0,41):\n",
    "    print(f'k({n})={fibonacci(n)}')"
   ]
  },
  {
   "cell_type": "markdown",
   "id": "e6adabe9-b9f8-4b5c-b1c5-886630b83309",
   "metadata": {},
   "source": [
    "#### Por tu cuenta\n",
    "\n",
    "La versión iterativa de fibonacci es el siguiente programa. Usa %timeit para comparar la versión original vs la iterativa para los numeros 32,33 y 34"
   ]
  },
  {
   "cell_type": "markdown",
   "id": "ef2abe5f-a751-45b2-9893-12cf04b99497",
   "metadata": {},
   "source": [
    "def fibonacci_iterativo(n):\n",
    "    resultado = 0\n",
    "    temp = 1\n",
    "    for j in range(0,n):\n",
    "        temp, resultado = resultado, resultado + temp\n",
    "    return resultado"
   ]
  },
  {
   "cell_type": "code",
   "execution_count": 63,
   "id": "451e92ad-4c45-4cb3-b364-31f494e30289",
   "metadata": {},
   "outputs": [],
   "source": [
    "def fibonacci_ite(n):\n",
    "    result=0\n",
    "    temp=1\n",
    "    for j in range(0,n):\n",
    "        result=result+temp\n",
    "        temp=result\n",
    "        return result"
   ]
  },
  {
   "cell_type": "code",
   "execution_count": 61,
   "id": "f0a0ddcd-41bd-45c8-a462-471db4071a7d",
   "metadata": {},
   "outputs": [
    {
     "name": "stdout",
     "output_type": "stream",
     "text": [
      "1\n",
      "2\n",
      "4\n",
      "8\n",
      "16\n"
     ]
    }
   ],
   "source": [
    "result=0\n",
    "temp=1\n",
    "for j in range(0,5):\n",
    "    result=result+temp\n",
    "    temp=result \n",
    "    print(result)"
   ]
  },
  {
   "cell_type": "code",
   "execution_count": 8,
   "id": "c2627128-e72a-4b18-b0e5-dcac10631f0e",
   "metadata": {},
   "outputs": [
    {
     "name": "stdout",
     "output_type": "stream",
     "text": [
      "1.01 ms ± 117 µs per loop (mean ± std. dev. of 7 runs, 1000 loops each)\n"
     ]
    }
   ],
   "source": [
    "%timeit fibonacci(17)"
   ]
  },
  {
   "cell_type": "code",
   "execution_count": 44,
   "id": "ebe72ef3-0fdc-4808-8c44-668e9222fee4",
   "metadata": {},
   "outputs": [
    {
     "name": "stdout",
     "output_type": "stream",
     "text": [
      "416 ns ± 56.2 ns per loop (mean ± std. dev. of 7 runs, 1000000 loops each)\n"
     ]
    }
   ],
   "source": [
    "%timeit fibonacci_iterativo(17)"
   ]
  },
  {
   "cell_type": "code",
   "execution_count": 67,
   "id": "8009f242-5170-459e-821f-16aa62850b00",
   "metadata": {},
   "outputs": [
    {
     "data": {
      "text/plain": [
       "1"
      ]
     },
     "execution_count": 67,
     "metadata": {},
     "output_type": "execute_result"
    }
   ],
   "source": [
    "fibonacci_iterativo(17)"
   ]
  },
  {
   "cell_type": "markdown",
   "id": "c1f5e086-b323-41b4-b4ec-efaa21e2c80a",
   "metadata": {},
   "source": [
    "### 11.2.2.- Series Geometricas"
   ]
  },
  {
   "cell_type": "markdown",
   "id": "cd84dea4-261c-46a9-8cd6-50e2ecd92e0f",
   "metadata": {},
   "source": [
    "Ahora vamos a armar series geometricas. Está tendra a=3, r=1/2 y n=20\n",
    "\n",
    "COmenzamos con la definicion de las variables a y r"
   ]
  },
  {
   "cell_type": "code",
   "execution_count": 78,
   "id": "66b25640-c0da-4d3e-8b8c-cf8627cf121a",
   "metadata": {},
   "outputs": [],
   "source": [
    "a=3\n",
    "r=1/2"
   ]
  },
  {
   "cell_type": "markdown",
   "id": "a461094b-66a3-43a9-8ec1-ff2501752f41",
   "metadata": {},
   "source": [
    "Ahora vamos a la definición de la función serie_geom(n)"
   ]
  },
  {
   "cell_type": "code",
   "execution_count": 86,
   "id": "2beb023a-1119-499f-b9e4-8d07f6e84bb3",
   "metadata": {},
   "outputs": [],
   "source": [
    "def serie_geom(n):\n",
    "    if n==0:\n",
    "        return a\n",
    "    else:\n",
    "        return serie_geom(n-1)+a*r**(n)"
   ]
  },
  {
   "cell_type": "markdown",
   "id": "4631973e-445c-49a0-9f5e-3c941c8d476e",
   "metadata": {},
   "source": [
    "Y terminamos con la impresión de los resultados del 1 al 10"
   ]
  },
  {
   "cell_type": "code",
   "execution_count": 88,
   "id": "ff3fe2f4-4586-465a-a82d-e07a8764e742",
   "metadata": {},
   "outputs": [
    {
     "name": "stdout",
     "output_type": "stream",
     "text": [
      "4.5\n"
     ]
    }
   ],
   "source": [
    "print(serie_geom(1))"
   ]
  },
  {
   "cell_type": "code",
   "execution_count": 89,
   "id": "9cebeced-064a-41fb-9444-ae95a0f996e6",
   "metadata": {},
   "outputs": [
    {
     "name": "stdout",
     "output_type": "stream",
     "text": [
      " La serie en la potencia0 es igual a 3\n",
      " La serie en la potencia1 es igual a 4.5\n",
      " La serie en la potencia2 es igual a 5.25\n",
      " La serie en la potencia3 es igual a 5.625\n",
      " La serie en la potencia4 es igual a 5.8125\n",
      " La serie en la potencia5 es igual a 5.90625\n",
      " La serie en la potencia6 es igual a 5.953125\n",
      " La serie en la potencia7 es igual a 5.9765625\n",
      " La serie en la potencia8 es igual a 5.98828125\n",
      " La serie en la potencia9 es igual a 5.994140625\n",
      " La serie en la potencia10 es igual a 5.9970703125\n"
     ]
    }
   ],
   "source": [
    "for n in range(0,11):\n",
    "    print(f' La serie en la potencia{n} es igual a {serie_geom(n)}')"
   ]
  },
  {
   "cell_type": "markdown",
   "id": "9f6abc8f-92e8-480e-8334-4f5d046e41e5",
   "metadata": {},
   "source": [
    "### 11.2.3.- Factorial"
   ]
  },
  {
   "cell_type": "markdown",
   "id": "88784460-c0f8-4893-9e0c-a1363de68e4a",
   "metadata": {},
   "source": [
    "Ahora vamos a ver factoriales, comenzamos definiendo la funcion factorial"
   ]
  },
  {
   "cell_type": "code",
   "execution_count": 8,
   "id": "074911c2-0ca5-4677-8391-7d77113803bd",
   "metadata": {},
   "outputs": [],
   "source": [
    "def factorial(n):\n",
    "    if n<=1:\n",
    "        return 1\n",
    "    else:\n",
    "        return n*factorial(n-1)"
   ]
  },
  {
   "cell_type": "markdown",
   "id": "0310758d-7f6b-4f2e-a6e3-13440bede434",
   "metadata": {},
   "source": [
    "E imprimimos del 1 al 20"
   ]
  },
  {
   "cell_type": "code",
   "execution_count": 9,
   "id": "f087e0b3-ba72-4ec6-ab70-be34ae7a5dff",
   "metadata": {},
   "outputs": [
    {
     "name": "stdout",
     "output_type": "stream",
     "text": [
      "Factorial de 1= 1\n",
      "Factorial de 2= 2\n",
      "Factorial de 3= 6\n",
      "Factorial de 4= 24\n",
      "Factorial de 5= 120\n",
      "Factorial de 6= 720\n",
      "Factorial de 7= 5040\n",
      "Factorial de 8= 40320\n",
      "Factorial de 9= 362880\n",
      "Factorial de 10= 3628800\n",
      "Factorial de 11= 39916800\n",
      "Factorial de 12= 479001600\n",
      "Factorial de 13= 6227020800\n",
      "Factorial de 14= 87178291200\n",
      "Factorial de 15= 1307674368000\n",
      "Factorial de 16= 20922789888000\n",
      "Factorial de 17= 355687428096000\n",
      "Factorial de 18= 6402373705728000\n",
      "Factorial de 19= 121645100408832000\n",
      "Factorial de 20= 2432902008176640000\n"
     ]
    }
   ],
   "source": [
    "for n in range(1,21):\n",
    "    print(f'Factorial de {n}= {factorial(n)}')"
   ]
  },
  {
   "cell_type": "markdown",
   "id": "1c737631-a31f-4e71-8b0a-73b14db2ede0",
   "metadata": {},
   "source": [
    "Ahora intenta el factorial de forma iterativa"
   ]
  },
  {
   "cell_type": "code",
   "execution_count": 10,
   "id": "c52108f1-9148-45b7-9b91-de45ec1e8d82",
   "metadata": {},
   "outputs": [],
   "source": [
    "def factorial_ite(n):\n",
    "    fin=n-1\n",
    "    for j in range(fin,1,-1):\n",
    "        n*=j\n",
    "    return n"
   ]
  },
  {
   "cell_type": "code",
   "execution_count": 11,
   "id": "0155899f-c75d-46a4-9545-c24f723a26b6",
   "metadata": {},
   "outputs": [
    {
     "data": {
      "text/plain": [
       "120"
      ]
     },
     "execution_count": 11,
     "metadata": {},
     "output_type": "execute_result"
    }
   ],
   "source": [
    "factorial_ite(5)"
   ]
  },
  {
   "cell_type": "code",
   "execution_count": null,
   "id": "d227fe94-d078-4e63-9407-054492dfe310",
   "metadata": {},
   "outputs": [],
   "source": []
  },
  {
   "cell_type": "markdown",
   "id": "f3787b88-147c-4214-a0a3-c54230f31b37",
   "metadata": {},
   "source": [
    "## 11.3.- Búsqueda"
   ]
  },
  {
   "cell_type": "markdown",
   "id": "a78f40fb-d33f-4cca-a8fc-8526fb3cc2c8",
   "metadata": {},
   "source": [
    "### 11.4.- Búsqueda lineal"
   ]
  },
  {
   "cell_type": "markdown",
   "id": "f8735ff0-47f5-400e-aafc-da969723bb96",
   "metadata": {},
   "source": [
    "La busqueda lineal es la mas sencilla y mensa, simplemente va elemento por elemento del arreglo viendo si es el indicado\n",
    "\n",
    "Vamos a comenzar haciendo una función sencilla de búsqueda lineal"
   ]
  },
  {
   "cell_type": "code",
   "execution_count": 14,
   "id": "73b1b365-8fb0-45eb-9662-f8d2de69afe0",
   "metadata": {},
   "outputs": [],
   "source": [
    "def busquedalineal(datos,buscar):\n",
    "    for indice,valor in enumerate(datos):\n",
    "        if valor==buscar:\n",
    "            return indice\n",
    "    return -1"
   ]
  },
  {
   "cell_type": "code",
   "execution_count": null,
   "id": "a00a757e-e4d8-44b4-bb02-f5b69d47aadf",
   "metadata": {},
   "outputs": [],
   "source": []
  },
  {
   "cell_type": "markdown",
   "id": "0f28350e-a1bc-4578-a979-375dce382971",
   "metadata": {},
   "source": [
    "Luego le damos los datos: \n",
    "    \n",
    "datos = [1.70, 1.65, 1.58, 1.81, 1.84, 1.78, 1.68, 1.72]"
   ]
  },
  {
   "cell_type": "code",
   "execution_count": 12,
   "id": "f55c176a-fa2c-489d-9b43-7c4ae5461292",
   "metadata": {},
   "outputs": [],
   "source": [
    "datos = [1.70, 1.65, 1.58, 1.81, 1.84, 1.78, 1.68, 1.72]"
   ]
  },
  {
   "cell_type": "code",
   "execution_count": 15,
   "id": "e09c8066-3ad5-4bd6-82f1-7cd3c57df088",
   "metadata": {},
   "outputs": [
    {
     "name": "stdout",
     "output_type": "stream",
     "text": [
      "El dato que quieres buscar tiene indice:  3\n"
     ]
    }
   ],
   "source": [
    "print('El dato que quieres buscar tiene indice: ',busquedalineal(datos,1.81))"
   ]
  },
  {
   "cell_type": "markdown",
   "id": "13749123-5a5f-441c-804d-624c8fb74159",
   "metadata": {},
   "source": [
    "Y luego probamos"
   ]
  },
  {
   "cell_type": "code",
   "execution_count": 16,
   "id": "16209386-19da-4e5f-82a4-254118a790c2",
   "metadata": {},
   "outputs": [
    {
     "name": "stdout",
     "output_type": "stream",
     "text": [
      "El dato que quieres buscar tiene indice:  -1\n"
     ]
    }
   ],
   "source": [
    "print('El dato que quieres buscar tiene indice: ',busquedalineal(datos,1.9))"
   ]
  },
  {
   "cell_type": "markdown",
   "id": "b72c7c8c-dae8-4004-a23f-c2858859867d",
   "metadata": {},
   "source": [
    "## 11.4.- Ordenamiento"
   ]
  },
  {
   "cell_type": "markdown",
   "id": "0f18e51a-df67-497a-96a9-e3e665f1d1d4",
   "metadata": {
    "tags": []
   },
   "source": [
    "### 11.4.1.- Ordenamiento por Selección"
   ]
  },
  {
   "cell_type": "markdown",
   "id": "1a6d3ee0-7320-44ef-8bf5-d999a1ee561f",
   "metadata": {},
   "source": [
    "Vamos a comenzar con Ordenamiento por Selección\n",
    "\n",
    "En este ciclo, se reduce la cantidad de elementos, una vez que se ha encontrado el elemento más\n",
    "pequeño y se ubica en la primera posición."
   ]
  },
  {
   "cell_type": "code",
   "execution_count": 17,
   "id": "a1205ce9-172f-4584-b801-68832f93fbce",
   "metadata": {},
   "outputs": [],
   "source": [
    "import numpy as np"
   ]
  },
  {
   "cell_type": "code",
   "execution_count": 18,
   "id": "5a2a8ef5-0468-49ee-96e6-4ff6da99b41c",
   "metadata": {},
   "outputs": [],
   "source": [
    "def ordenamiento_slec(dato):\n",
    "    for indice1 in range(len(dato)-1):\n",
    "        peque=indice1\n",
    "        for indice2 in range(indice1+1,len(dato)):\n",
    "            if dato[indice2]<dato[peque]:\n",
    "                peque=indice2\n",
    "                \n",
    "        dato[peque],dato[indice1]=dato[indice1],dato[peque]"
   ]
  },
  {
   "cell_type": "markdown",
   "id": "8d24352c-e131-41cb-afb0-fb1878127bea",
   "metadata": {},
   "source": [
    "En esta parte se identifica el elemento más pequeño, entre los elementos que quedan, y se intercambia de posición con el elemento que tiene el índice más bajo. "
   ]
  },
  {
   "cell_type": "code",
   "execution_count": null,
   "id": "58dfd13a-509d-4006-919d-b5489347001d",
   "metadata": {},
   "outputs": [],
   "source": []
  },
  {
   "cell_type": "markdown",
   "id": "c68a3d0a-aac2-4051-91f8-e85f7ae9049a",
   "metadata": {},
   "source": [
    "Y ahora apliquemos este algoritmo a auna lista que contiene la estatura de 9 personas\n",
    "\n",
    "1.85, 1.70, 1.58, 1.83, 1.80, 1.75, 1.70, 1.90, 1.65"
   ]
  },
  {
   "cell_type": "code",
   "execution_count": 20,
   "id": "94996880-1a0f-40a3-ad33-e97191c600a0",
   "metadata": {},
   "outputs": [],
   "source": [
    "dato=np.array([1.85, 1.70, 1.58, 1.83, 1.80, 1.75, 1.70, 1.90, 1.65])"
   ]
  },
  {
   "cell_type": "code",
   "execution_count": 21,
   "id": "16111271-21a0-40ce-bbb4-b3758808d565",
   "metadata": {},
   "outputs": [
    {
     "name": "stdout",
     "output_type": "stream",
     "text": [
      "Sorted Array: [1.85 1.7  1.58 1.83 1.8  1.75 1.7  1.9  1.65]\n",
      "\n"
     ]
    }
   ],
   "source": [
    "print(f'Sorted Array: {dato}\\n')"
   ]
  },
  {
   "cell_type": "code",
   "execution_count": 22,
   "id": "71f56ca5-492d-4e01-949a-06fb868e2de8",
   "metadata": {},
   "outputs": [],
   "source": [
    "ordenamiento_slec(dato)"
   ]
  },
  {
   "cell_type": "code",
   "execution_count": 23,
   "id": "1f79dc76-a408-450e-a341-c89b90743b34",
   "metadata": {},
   "outputs": [
    {
     "name": "stdout",
     "output_type": "stream",
     "text": [
      "Ordenamiento Ordenado: [1.58 1.65 1.7  1.7  1.75 1.8  1.83 1.85 1.9 ]\n",
      "\n"
     ]
    }
   ],
   "source": [
    "print(f'Ordenamiento Ordenado: {dato}\\n')"
   ]
  },
  {
   "cell_type": "code",
   "execution_count": null,
   "id": "6b3536e7-a97e-4722-875d-84d5a5207190",
   "metadata": {},
   "outputs": [],
   "source": []
  }
 ],
 "metadata": {
  "kernelspec": {
   "display_name": "Python 3 (ipykernel)",
   "language": "python",
   "name": "python3"
  },
  "language_info": {
   "codemirror_mode": {
    "name": "ipython",
    "version": 3
   },
   "file_extension": ".py",
   "mimetype": "text/x-python",
   "name": "python",
   "nbconvert_exporter": "python",
   "pygments_lexer": "ipython3",
   "version": "3.9.13"
  }
 },
 "nbformat": 4,
 "nbformat_minor": 5
}
