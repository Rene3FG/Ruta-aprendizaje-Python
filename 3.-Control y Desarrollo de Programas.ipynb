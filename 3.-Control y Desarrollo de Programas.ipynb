{
 "cells": [
  {
   "cell_type": "markdown",
   "id": "89030283-116c-4976-8e73-b89f8381e6f3",
   "metadata": {},
   "source": [
    "# 3.- Control y desarrollo de Programas"
   ]
  },
  {
   "cell_type": "markdown",
   "id": "dbbe85a8-e01d-4b2f-a971-a40e971242ad",
   "metadata": {},
   "source": [
    "## 3.3 Algoritmos"
   ]
  },
  {
   "cell_type": "markdown",
   "id": "1e24fd7e-76ad-4e6f-80db-907c3ddae4d5",
   "metadata": {},
   "source": [
    "#### Por tu cuenta\n",
    "\n",
    "Escribe el programa de python que realice las instrucciones en el algoritmo 3.3 de tu manual."
   ]
  },
  {
   "cell_type": "code",
   "execution_count": null,
   "id": "ea7857f1-87e9-4e21-9e39-83ab4bd47a0a",
   "metadata": {},
   "outputs": [],
   "source": []
  },
  {
   "cell_type": "markdown",
   "id": "301cb629-91e3-433c-800f-baad2534271e",
   "metadata": {},
   "source": [
    "## 3.7.- Sentencia if "
   ]
  },
  {
   "cell_type": "markdown",
   "id": "410f8e45-c2d2-460f-87f6-9ea211142915",
   "metadata": {},
   "source": [
    "El usuario proporciona su año de nacimiento\n",
    "La cantidad debe leerse como un entero\n",
    "Si la variable 2021 – año de nacimiento, es mayor o igual a 25,\n",
    "el programa debe mostrar: Posible cliente"
   ]
  },
  {
   "cell_type": "markdown",
   "id": "c12a57c1-25fd-422c-b991-689f2af4cc34",
   "metadata": {},
   "source": [
    "Entonces el código para alguien que dijo nació en 1993 será:"
   ]
  },
  {
   "cell_type": "code",
   "execution_count": 6,
   "id": "d20cc775-bacf-4494-baf2-43a2a9bf013a",
   "metadata": {},
   "outputs": [
    {
     "name": "stdin",
     "output_type": "stream",
     "text": [
      "Ingresa tu fecha de nacimiento 1999\n"
     ]
    }
   ],
   "source": [
    "nac=int(input('Ingresa tu fecha de nacimiento'))\n",
    "if 2021-nac>25:\n",
    "    print('Posible cliente')"
   ]
  },
  {
   "cell_type": "code",
   "execution_count": null,
   "id": "8f859198-f967-4e4a-919d-60bd4baa0af8",
   "metadata": {},
   "outputs": [],
   "source": []
  },
  {
   "cell_type": "markdown",
   "id": "9c93db3a-9773-40da-8d2f-f3b52be77c1d",
   "metadata": {},
   "source": [
    "Si no se añade indentación... error"
   ]
  },
  {
   "cell_type": "code",
   "execution_count": 7,
   "id": "72ed4d90-d281-4c11-aca1-f4f6765b6527",
   "metadata": {},
   "outputs": [
    {
     "ename": "IndentationError",
     "evalue": "expected an indented block (4272250104.py, line 3)",
     "output_type": "error",
     "traceback": [
      "\u001b[1;36m  File \u001b[1;32m\"C:\\Users\\bebec\\AppData\\Local\\Temp\\ipykernel_24420\\4272250104.py\"\u001b[1;36m, line \u001b[1;32m3\u001b[0m\n\u001b[1;33m    print('Posible cliente')\u001b[0m\n\u001b[1;37m    ^\u001b[0m\n\u001b[1;31mIndentationError\u001b[0m\u001b[1;31m:\u001b[0m expected an indented block\n"
     ]
    }
   ],
   "source": [
    "nac=int(input('Ingresa tu fecha de nacimiento'))\n",
    "if 2021-nac>25:\n",
    "print('Posible cliente')"
   ]
  },
  {
   "cell_type": "markdown",
   "id": "3ffd478d-5723-4baf-9845-10412bf3ff67",
   "metadata": {},
   "source": [
    "Hay que poner identación en todos lados"
   ]
  },
  {
   "cell_type": "code",
   "execution_count": 8,
   "id": "8c0bf0c4-4f38-423c-b6b9-ff116ac9d4eb",
   "metadata": {},
   "outputs": [
    {
     "name": "stdin",
     "output_type": "stream",
     "text": [
      "Ingresa tu fecha de nacimiento 1993\n"
     ]
    },
    {
     "name": "stdout",
     "output_type": "stream",
     "text": [
      "Posible cliente\n",
      "Ofrecer seguro\n"
     ]
    }
   ],
   "source": [
    "nac=int(input('Ingresa tu fecha de nacimiento'))\n",
    "if 2021-nac>25:\n",
    "    print('Posible cliente')\n",
    "    print('Ofrecer seguro')"
   ]
  },
  {
   "cell_type": "markdown",
   "id": "a74cf5cc-5c5b-459e-bb49-9fb8683d514d",
   "metadata": {},
   "source": [
    "Todas las expresiones pueden ser interpretadas como falsas y verdaderas"
   ]
  },
  {
   "cell_type": "markdown",
   "id": "c8e79e45-5fc7-4a17-ad46-59d024196579",
   "metadata": {},
   "source": [
    "#### Por tu cuenta\n",
    "\n",
    "Cambia la fecha de nacimiento al 2002 del primer código"
   ]
  },
  {
   "cell_type": "code",
   "execution_count": 9,
   "id": "a86ac59c-64cf-4164-9c45-2216db72161d",
   "metadata": {},
   "outputs": [
    {
     "name": "stdin",
     "output_type": "stream",
     "text": [
      "Ingresa tu fecha de nacimiento 2002\n"
     ]
    }
   ],
   "source": [
    "nac=int(input('Ingresa tu fecha de nacimiento'))\n",
    "if 2021-nac>25:\n",
    "    print('Posible cliente')"
   ]
  },
  {
   "cell_type": "markdown",
   "id": "d4c29904-0f82-468e-9b25-3bcf5e671341",
   "metadata": {},
   "source": [
    "## 3.8.- Sentencia if..else, if..elif...else"
   ]
  },
  {
   "cell_type": "markdown",
   "id": "9cd25587-cc7a-4202-b3e5-5e99369a0f6c",
   "metadata": {},
   "source": [
    "El usuario proporciona su año de nacimiento\n",
    "\n",
    "La cantidad debe leerse como un entero\n",
    "\n",
    "Si la variable 2021 – año de nacimiento, es mayor o igual a 25,\n",
    "\n",
    "el programa debe mostrar: Posible cliente\n",
    "\n",
    "en otro caso,\n",
    "\n",
    "debe mostrar: No es candidato"
   ]
  },
  {
   "cell_type": "markdown",
   "id": "3c80901e-93b7-4c46-8042-a1d135f92142",
   "metadata": {},
   "source": [
    "OK, escribe el código de lo anterior, observa la identación, prueba para 1985"
   ]
  },
  {
   "cell_type": "code",
   "execution_count": 10,
   "id": "6fc8df95-ced6-476d-921f-a9c38acbcc1f",
   "metadata": {},
   "outputs": [
    {
     "name": "stdin",
     "output_type": "stream",
     "text": [
      "Ingresa fecha nacimiento 1985\n"
     ]
    },
    {
     "name": "stdout",
     "output_type": "stream",
     "text": [
      "Posible cliente\n"
     ]
    }
   ],
   "source": [
    "nac=int(input('Ingresa fecha nacimiento'))\n",
    "if 2021-nac>=25:\n",
    "    print('Posible cliente')\n",
    "else:\n",
    "    print('No es cliente')"
   ]
  },
  {
   "cell_type": "code",
   "execution_count": null,
   "id": "e7f0caec-9f05-4808-a009-d1a4348f24aa",
   "metadata": {},
   "outputs": [],
   "source": []
  },
  {
   "cell_type": "markdown",
   "id": "eb5474b3-2c69-425d-b284-4b4973d3e4c4",
   "metadata": {},
   "source": [
    "Y ahora para 1999"
   ]
  },
  {
   "cell_type": "code",
   "execution_count": 11,
   "id": "a1c7c3e9-c733-414e-a384-0d594a6018aa",
   "metadata": {},
   "outputs": [
    {
     "name": "stdin",
     "output_type": "stream",
     "text": [
      "Ingresa fecha nacimiento 1999\n"
     ]
    },
    {
     "name": "stdout",
     "output_type": "stream",
     "text": [
      "No es cliente\n"
     ]
    }
   ],
   "source": [
    "nac=int(input('Ingresa fecha nacimiento'))\n",
    "if 2021-nac>=25:\n",
    "    print('Posible cliente')\n",
    "else:\n",
    "    print('No es cliente')"
   ]
  },
  {
   "cell_type": "code",
   "execution_count": null,
   "id": "0b66e4bb-1a5a-48e3-bb29-156982d7d48b",
   "metadata": {},
   "outputs": [],
   "source": []
  },
  {
   "cell_type": "markdown",
   "id": "b1cb650e-ff5d-4791-819e-3d4f31ae49f5",
   "metadata": {},
   "source": [
    "Ok, otra alternativa es asignar las acciones a una variable"
   ]
  },
  {
   "cell_type": "code",
   "execution_count": 13,
   "id": "91b05b4c-e6ea-487c-8e23-341d6a5c33d2",
   "metadata": {},
   "outputs": [
    {
     "name": "stdin",
     "output_type": "stream",
     "text": [
      "Ingresa fecha nacimiento 1999\n"
     ]
    },
    {
     "data": {
      "text/plain": [
       "'No'"
      ]
     },
     "execution_count": 13,
     "metadata": {},
     "output_type": "execute_result"
    }
   ],
   "source": [
    "nac=int(input('Ingresa fecha nacimiento'))\n",
    "if 2021-nac>=25:\n",
    "    cliente1='Si'\n",
    "else:\n",
    "    cliente1='No'\n",
    "cliente1"
   ]
  },
  {
   "cell_type": "code",
   "execution_count": null,
   "id": "2859bcbc-92e4-4729-91f2-a295bdc701f8",
   "metadata": {},
   "outputs": [],
   "source": []
  },
  {
   "cell_type": "markdown",
   "id": "06bd7ff2-8017-4580-8cf4-845751e7143f",
   "metadata": {},
   "source": [
    "Cada condición (if) puede realizar más de una acción - solo recuerda indentar"
   ]
  },
  {
   "cell_type": "code",
   "execution_count": 15,
   "id": "6a033eb5-34cd-4a18-8aca-170cce1ee3f3",
   "metadata": {},
   "outputs": [
    {
     "name": "stdin",
     "output_type": "stream",
     "text": [
      "Ingresa fecha nacimiento 1999\n"
     ]
    },
    {
     "name": "stdout",
     "output_type": "stream",
     "text": [
      "No es cliente\n",
      "Correr a patadas\n"
     ]
    }
   ],
   "source": [
    "nac=int(input('Ingresa fecha nacimiento'))\n",
    "if 2021-nac>=25:\n",
    "    print('Posible cliente')\n",
    "    print('Ofreser seguro')\n",
    "else:\n",
    "    print('No es cliente')\n",
    "    print('Correr a patadas')"
   ]
  },
  {
   "cell_type": "markdown",
   "id": "1781ed40-5814-4600-a8b6-2d9e5a816e9a",
   "metadata": {},
   "source": [
    "Por que si dejamos sin identación, siempre se va a ejecutar (y es un mundo de errores)"
   ]
  },
  {
   "cell_type": "code",
   "execution_count": 16,
   "id": "7eff9135-4ba5-4585-a359-d99a9846fb2c",
   "metadata": {},
   "outputs": [
    {
     "name": "stdin",
     "output_type": "stream",
     "text": [
      "Ingresa fecha nacimiento 1993\n"
     ]
    },
    {
     "name": "stdout",
     "output_type": "stream",
     "text": [
      "Posible cliente\n",
      "Ofreser seguro\n",
      "Correr a patadas\n"
     ]
    }
   ],
   "source": [
    "nac=int(input('Ingresa fecha nacimiento'))\n",
    "if 2021-nac>=25:\n",
    "    print('Posible cliente')\n",
    "    print('Ofreser seguro')\n",
    "else:\n",
    "    print('No es cliente')\n",
    "print('Correr a patadas')"
   ]
  },
  {
   "cell_type": "markdown",
   "id": "45f8933d-a55f-4236-833d-8058d16395e6",
   "metadata": {},
   "source": [
    "Si la edad de la persona es mayor o igual a 60\n",
    "Mostrar: Adulto Mayor\n",
    "Si la edad de la persona es mayor o igual a 27\n",
    "Mostrar: Adulto\n",
    "Si la edad de la persona es mayor o igual a 18\n",
    "Mostrar: Joven\n",
    "Si la edad de la persona es mayor o igual a 12\n",
    "Mostrar: Adolescente\n",
    "En otro caso,\n",
    "Mostrar: Infante"
   ]
  },
  {
   "cell_type": "markdown",
   "id": "861e7951-f7d3-467c-9f92-e534069381c6",
   "metadata": {},
   "source": [
    "#### Por tu Cuenta\n",
    "\n",
    "Arma un programa basado en el pseudocódigo anterior"
   ]
  },
  {
   "cell_type": "code",
   "execution_count": 24,
   "id": "c8fd22ba-77a5-4033-a35a-d00947458df5",
   "metadata": {},
   "outputs": [
    {
     "name": "stdin",
     "output_type": "stream",
     "text": [
      "Ingrese su edad 55\n"
     ]
    },
    {
     "name": "stdout",
     "output_type": "stream",
     "text": [
      "Adulto\n"
     ]
    }
   ],
   "source": [
    "edad=int(input('Ingrese su edad'))\n",
    "if edad>=60:\n",
    "         print('Adulto mayor')\n",
    "else:\n",
    "         if edad>=27:\n",
    "             print('Adulto')\n",
    "         else:\n",
    "             if edad>=18:\n",
    "                 print('Joven')\n",
    "             else:\n",
    "                 if edad>=12:\n",
    "                     print('Adolescente')\n",
    "                 else:\n",
    "                     print('Infante')"
   ]
  },
  {
   "cell_type": "code",
   "execution_count": 26,
   "id": "34170795-15d0-4f83-821a-b214b2d0126d",
   "metadata": {},
   "outputs": [
    {
     "name": "stdin",
     "output_type": "stream",
     "text": [
      "Ingresa su edad 55\n"
     ]
    },
    {
     "name": "stdout",
     "output_type": "stream",
     "text": [
      "Adulto\n"
     ]
    }
   ],
   "source": [
    "edad=int(input('Ingresa su edad'))\n",
    "if edad>=60:\n",
    "    print('Adulto mayor')\n",
    "elif edad>=27:\n",
    "    print('Adulto')\n",
    "elif edad>=18:\n",
    "    print('Joven')\n",
    "elif edad>=12:\n",
    "    print('Adolescente')\n",
    "else:\n",
    "    print(\"Infante\")"
   ]
  },
  {
   "cell_type": "code",
   "execution_count": null,
   "id": "c198ea3a-ee73-4d37-95dc-08125ea8ca9d",
   "metadata": {},
   "outputs": [],
   "source": []
  },
  {
   "cell_type": "markdown",
   "id": "6a350229-d037-49b8-8a10-831c579ac107",
   "metadata": {},
   "source": [
    "## 3.9.- Sentencia While"
   ]
  },
  {
   "cell_type": "markdown",
   "id": "c774587b-29d9-475f-9912-24ab63b9fc04",
   "metadata": {},
   "source": [
    "Iniciar con potencia=4\n",
    "Mientras que potencia sea menor o igual a 817\n",
    "Potencia=potencia*4"
   ]
  },
  {
   "cell_type": "code",
   "execution_count": null,
   "id": "aa39f319-6140-457b-9dfe-d65e260ad670",
   "metadata": {},
   "outputs": [],
   "source": []
  },
  {
   "cell_type": "markdown",
   "id": "c91db9d8-93f3-4d3a-a657-9b2b47f3aa50",
   "metadata": {},
   "source": [
    "Arma un programa que ejecute el pseudocódigo anterior"
   ]
  },
  {
   "cell_type": "code",
   "execution_count": 34,
   "id": "fc738513-065b-4ede-be43-077f8cb20581",
   "metadata": {},
   "outputs": [],
   "source": [
    "potencia=4\n",
    "contador=1"
   ]
  },
  {
   "cell_type": "code",
   "execution_count": 35,
   "id": "609c2a31-d0c2-45bc-a645-4866d3718e8e",
   "metadata": {},
   "outputs": [],
   "source": [
    "while potencia<=817:\n",
    "    potencia=potencia*4\n",
    "    contador=contador+1"
   ]
  },
  {
   "cell_type": "code",
   "execution_count": 37,
   "id": "c2b6e02b-4a66-4a55-80bb-1fcd2b7b69d4",
   "metadata": {},
   "outputs": [
    {
     "name": "stdout",
     "output_type": "stream",
     "text": [
      "1024\n",
      "5\n"
     ]
    }
   ],
   "source": [
    "print(potencia)\n",
    "print(contador)"
   ]
  },
  {
   "cell_type": "markdown",
   "id": "3cc4527c-0db2-489c-b3f4-6824da60fe0d",
   "metadata": {},
   "source": [
    "# 3.10.- Sentencia For"
   ]
  },
  {
   "cell_type": "markdown",
   "id": "faf76ecb-2024-4504-b999-397258a8b613",
   "metadata": {},
   "source": [
    "Analiza el siguiente ejemplo\n",
    "\n",
    "for caracter in ‘Palabra’:\n",
    "    print(caracter, end=’ ‘)\n",
    "\n"
   ]
  },
  {
   "cell_type": "code",
   "execution_count": 40,
   "id": "2be519f0-0b2f-41cd-889a-324243b1c74e",
   "metadata": {},
   "outputs": [
    {
     "name": "stdout",
     "output_type": "stream",
     "text": [
      "P, a, l, a, b, r, a, "
     ]
    }
   ],
   "source": [
    "for caracter in 'Palabra':\n",
    "    print(caracter,end=', ')"
   ]
  },
  {
   "cell_type": "code",
   "execution_count": 41,
   "id": "64516c12-3618-42fa-9040-9e9ae0559aca",
   "metadata": {},
   "outputs": [
    {
     "name": "stdout",
     "output_type": "stream",
     "text": [
      "P, a, l, a, b, r, a, "
     ]
    }
   ],
   "source": [
    "for pedro in 'Palabra':\n",
    "    print(pedro,end=', ')"
   ]
  },
  {
   "cell_type": "markdown",
   "id": "836a856c-ded9-42f9-b816-ca57889fdbc2",
   "metadata": {},
   "source": [
    "Arma un programa que te calcule el factorial de algún número dado"
   ]
  },
  {
   "cell_type": "code",
   "execution_count": 55,
   "id": "7269cb54-02c7-4b6f-b400-bc8b9d573d01",
   "metadata": {},
   "outputs": [
    {
     "name": "stdin",
     "output_type": "stream",
     "text": [
      "Introduce un numero 5\n"
     ]
    },
    {
     "data": {
      "text/plain": [
       "120"
      ]
     },
     "execution_count": 55,
     "metadata": {},
     "output_type": "execute_result"
    }
   ],
   "source": [
    "numero=int(input('Introduce un numero'))\n",
    "factorial=1\n",
    "for i in range(1,numero+1):\n",
    "    factorial=factorial*i\n",
    "factorial"
   ]
  },
  {
   "cell_type": "markdown",
   "id": "48fe5311-9076-44f6-8ef0-59ba0c09c9ea",
   "metadata": {},
   "source": [
    "Conoce el operador *= que te permite guardar el resultado en si mismo"
   ]
  },
  {
   "cell_type": "code",
   "execution_count": null,
   "id": "2e627ca5-8755-455c-be36-b4df3deae649",
   "metadata": {},
   "outputs": [],
   "source": [
    "numero=int(input('Introduce un numero'))\n",
    "factorial=1\n",
    "for i in range(1,numero+1):\n",
    "    factorial*=i\n",
    "factorial"
   ]
  },
  {
   "cell_type": "markdown",
   "id": "f8ee4c02-8084-4b20-beb0-ffddf7f9e8a4",
   "metadata": {},
   "source": [
    "Podemos usar range si la suceción de elementos en for es una suscesión ordenada"
   ]
  },
  {
   "cell_type": "code",
   "execution_count": 57,
   "id": "016bb41a-99fd-4aee-aad0-ee994eb082cc",
   "metadata": {},
   "outputs": [
    {
     "name": "stdout",
     "output_type": "stream",
     "text": [
      "0, 1, 2, 3, 4, "
     ]
    }
   ],
   "source": [
    "for cont in range(5):\n",
    "    print(cont,end=\", \")"
   ]
  },
  {
   "cell_type": "markdown",
   "id": "89526fc0-663e-405b-9b71-4ad0c5eb77d6",
   "metadata": {},
   "source": [
    "Si necesitas salir del ciclo usa Break.\n",
    "\n",
    "Haz un programa que para todos los números del 1-10, muestre el número en pantalla... peeeero al llegar al 8 haga break."
   ]
  },
  {
   "cell_type": "code",
   "execution_count": 65,
   "id": "7b739677-ee9b-4511-aae4-e295dcf24242",
   "metadata": {},
   "outputs": [
    {
     "name": "stdout",
     "output_type": "stream",
     "text": [
      "1, 2, 3, 4, 5, 6, 7, 8, "
     ]
    }
   ],
   "source": [
    "for cont in range(10):\n",
    "    if cont==8:\n",
    "        break\n",
    "    print(cont+1,end=', ')"
   ]
  },
  {
   "cell_type": "markdown",
   "id": "9ec03229-a673-4e57-be0a-44708327b956",
   "metadata": {},
   "source": [
    "#### Por tu cuenta\n",
    "\n",
    "Usa for para calcular el consumo promedio de los siguientes clientes\n",
    "\n",
    "[130,85,210,45,153,78.5,264.5,94]\n",
    "\n",
    "Esta lista te muestra el consumo de cada cliente"
   ]
  },
  {
   "cell_type": "code",
   "execution_count": 70,
   "id": "793cbe1c-3303-4284-a5f9-da91d55cbcc6",
   "metadata": {},
   "outputs": [
    {
     "name": "stdout",
     "output_type": "stream",
     "text": [
      "132.5\n"
     ]
    }
   ],
   "source": [
    "consumo=[130,85,210,45,153,78.5,264.5,94]\n",
    "cont=0\n",
    "suma=0\n",
    "for item in consumo:\n",
    "    suma+=item\n",
    "    cont+=1\n",
    "prom=suma/cont\n",
    "print(prom)"
   ]
  },
  {
   "cell_type": "markdown",
   "id": "4dfbadfd-4552-40bb-be14-f0a06f6cc589",
   "metadata": {},
   "source": [
    "#### Por tu cuenta\n",
    "\n",
    "usa for para calcular el interes compuesto de una persona que invierte $10,000 en una cuenta que rinde el 8% de intereses. Supon que la persona reinvierte los intereses. Calcula la cantida ddel dinero al final de 10 años"
   ]
  },
  {
   "cell_type": "code",
   "execution_count": 4,
   "id": "6ae87f0a-c126-4686-a68a-718750cd6cb4",
   "metadata": {},
   "outputs": [
    {
     "name": "stdout",
     "output_type": "stream",
     "text": [
      "El monto ahorrado al final del año 1 es de: 10800.0\n",
      "El monto ahorrado al final del año 2 es de: 11664.0\n",
      "El monto ahorrado al final del año 3 es de: 12597.12\n",
      "El monto ahorrado al final del año 4 es de: 13604.8896\n",
      "El monto ahorrado al final del año 5 es de: 14693.280768\n",
      "El monto ahorrado al final del año 6 es de: 15868.74322944\n",
      "El monto ahorrado al final del año 7 es de: 17138.242687795202\n",
      "El monto ahorrado al final del año 8 es de: 18509.30210281882\n",
      "El monto ahorrado al final del año 9 es de: 19990.046271044324\n",
      "El monto ahorrado al final del año 10 es de: 21589.24997272787\n"
     ]
    },
    {
     "data": {
      "text/plain": [
       "21589.24997272787"
      ]
     },
     "execution_count": 4,
     "metadata": {},
     "output_type": "execute_result"
    }
   ],
   "source": [
    "interes=.08\n",
    "saldo=10000\n",
    "años=0\n",
    "for años in range(10):\n",
    "    saldo=saldo+(saldo*interes)\n",
    "    print(\"El monto ahorrado al final del año\",años+1,\"es de:\",saldo)\n",
    "saldo\n"
   ]
  },
  {
   "cell_type": "markdown",
   "id": "f70e0474-b78c-41e6-b4bf-b7d406afc18e",
   "metadata": {},
   "source": [
    "#### Por tu cuenta\n",
    "\n",
    "En una tienda de autoservicio hay un promotor en la sección de productos lácteos. La empresa\n",
    "para la que trabaja, le otorga un premio económico si rebasa $200 de ventas (venta meta) por\n",
    "cliente. La empresa cuenta con un registro en donde están marcadas las ventas de 8 clientes que\n",
    "adquirieron algunos de los productos de la marca. Por cada cliente que rebasó la cantidad meta se\n",
    "escribe 1, y si no la rebasa se escribe 2. Si número de clientes que rebasan la venta meta es más de\n",
    "la mitad, se le otorga el premio al promotor. Se requiere de un programa que señale si al promotor\n",
    "se le debe asignar el premio económico"
   ]
  },
  {
   "cell_type": "code",
   "execution_count": 17,
   "id": "709467af-aa12-4e2b-a6f9-9ddbf3dc5cf4",
   "metadata": {},
   "outputs": [
    {
     "name": "stdin",
     "output_type": "stream",
     "text": [
      "Introduce 1 si el cliente rebaso los $200 o 2 si no se rebaso  1\n",
      "Introduce 1 si el cliente rebaso los $200 o 2 si no se rebaso  1\n",
      "Introduce 1 si el cliente rebaso los $200 o 2 si no se rebaso  1\n",
      "Introduce 1 si el cliente rebaso los $200 o 2 si no se rebaso  1\n",
      "Introduce 1 si el cliente rebaso los $200 o 2 si no se rebaso  1\n",
      "Introduce 1 si el cliente rebaso los $200 o 2 si no se rebaso  2\n",
      "Introduce 1 si el cliente rebaso los $200 o 2 si no se rebaso  2\n",
      "Introduce 1 si el cliente rebaso los $200 o 2 si no se rebaso  2\n"
     ]
    },
    {
     "name": "stdout",
     "output_type": "stream",
     "text": [
      "\n",
      "La cantidad de clientes rebasados fue de: 5\n",
      "La cantidad de clientes que no se rebaso la meta fue de: 3\n",
      "Se le otorga el premio\n"
     ]
    }
   ],
   "source": [
    "clientes=8\n",
    "cliente=0\n",
    "premio=200\n",
    "cont1=0\n",
    "cont2=0\n",
    "clienter=False\n",
    "for cliente in range(clientes):\n",
    "    clienter=int(input('Introduce 1 si el cliente rebaso los $200 o 2 si no se rebaso '))\n",
    "    if clienter==1:\n",
    "        cont1+=1\n",
    "    elif clienter==2:\n",
    "        cont2+=1\n",
    "    else :\n",
    "        print(\"Introduzca una obción válida\")\n",
    "        cliente-=1\n",
    "print(\"\\nLa cantidad de clientes rebasados fue de:\",cont1)\n",
    "print(\"La cantidad de clientes que no se rebaso la meta fue de:\",cont2)\n",
    "if cont1>4:\n",
    "    print('Se le otorga el premio')\n",
    "else:\n",
    "    print('No se otorga el premio')"
   ]
  },
  {
   "cell_type": "markdown",
   "id": "f8d3b5e3-6330-4c14-b58a-0cca551d2859",
   "metadata": {},
   "source": [
    "## 3.11.- Operadores Booleanos"
   ]
  },
  {
   "cell_type": "markdown",
   "id": "6c08d764-a3d9-4a66-b302-3d2b6ea26c9a",
   "metadata": {},
   "source": [
    "Arma un programa que revise si un cliente registró su mail Y que su salario mensual sea mayor a 20,000 pesos para poder declararlo como posible cliente"
   ]
  },
  {
   "cell_type": "code",
   "execution_count": 20,
   "id": "5a56ad9a-8461-4b37-9822-ae169684fd99",
   "metadata": {},
   "outputs": [
    {
     "name": "stdout",
     "output_type": "stream",
     "text": [
      "No es posible cliente\n"
     ]
    }
   ],
   "source": [
    "registromail='si'\n",
    "salariomensual=19000\n",
    "if registromail=='si'  and salariomensual>20000:\n",
    "    print(\"Sí es posible cliente\")\n",
    "else:\n",
    "    print(\"No es posible cliente\")"
   ]
  },
  {
   "cell_type": "markdown",
   "id": "ef7df93f-b65c-44a8-8003-0eab0051c033",
   "metadata": {},
   "source": [
    "Arma un programa que revise si un posible candidato laboral va tiene titulo o al menos 5 años de experiencia laboral para poder llamarlo a entrevista"
   ]
  },
  {
   "cell_type": "code",
   "execution_count": 24,
   "id": "53f119f7-01eb-46d9-b9c8-be1eb9ecdcb2",
   "metadata": {},
   "outputs": [
    {
     "name": "stdout",
     "output_type": "stream",
     "text": [
      "Llamar a entrevista\n"
     ]
    }
   ],
   "source": [
    "titulo='no'\n",
    "años_ex=8\n",
    "if titulo=='si' or años_ex>=5:\n",
    "    print(\"Llamar a entrevista\")\n",
    "else:\n",
    "    print(\"No es candidato\")"
   ]
  },
  {
   "cell_type": "markdown",
   "id": "ac5f9615-3d09-4773-a799-520b4074e359",
   "metadata": {},
   "source": [
    "-------------------------EJERCICIOS MANUAL-------------------------"
   ]
  },
  {
   "cell_type": "markdown",
   "id": "e92bc27d-8b47-48ee-9b88-d5fd9da7f3db",
   "metadata": {},
   "source": [
    "1.- Modifica el script del ejemplo 3. Con el objetivo de validar los datos ingresados. Añade un \n",
    "contador que registre los casos en los que no se registró ni 1, ni 2. Al final el programa debe \n",
    "mostrar también el número de registros erróneos."
   ]
  },
  {
   "cell_type": "code",
   "execution_count": 9,
   "id": "5d10a4f0-0cf4-4315-b729-3bcae53e142d",
   "metadata": {},
   "outputs": [
    {
     "name": "stdin",
     "output_type": "stream",
     "text": [
      "Introduce 1 si el cliente rebaso los $200 o 2 si no se rebaso  1\n",
      "Introduce 1 si el cliente rebaso los $200 o 2 si no se rebaso  1\n",
      "Introduce 1 si el cliente rebaso los $200 o 2 si no se rebaso  1\n",
      "Introduce 1 si el cliente rebaso los $200 o 2 si no se rebaso  1\n",
      "Introduce 1 si el cliente rebaso los $200 o 2 si no se rebaso  1\n",
      "Introduce 1 si el cliente rebaso los $200 o 2 si no se rebaso  2\n",
      "Introduce 1 si el cliente rebaso los $200 o 2 si no se rebaso  2\n",
      "Introduce 1 si el cliente rebaso los $200 o 2 si no se rebaso  3\n"
     ]
    },
    {
     "name": "stdout",
     "output_type": "stream",
     "text": [
      "Introduzca una obción válida\n"
     ]
    },
    {
     "name": "stdin",
     "output_type": "stream",
     "text": [
      "Introduce 1 si el cliente rebaso los $200 o 2 si no se rebaso  3\n"
     ]
    },
    {
     "name": "stdout",
     "output_type": "stream",
     "text": [
      "Introduzca una obción válida\n"
     ]
    },
    {
     "name": "stdin",
     "output_type": "stream",
     "text": [
      "Introduce 1 si el cliente rebaso los $200 o 2 si no se rebaso  2\n"
     ]
    },
    {
     "name": "stdout",
     "output_type": "stream",
     "text": [
      "\n",
      "La cantidad de clientes rebasados fue de: 5\n",
      "La cantidad de clientes que no se rebaso la meta fue de: 3\n",
      "Se ingresaron la siguiente cantidad de datos erroneos: 2\n",
      "Se le otorga el premio\n"
     ]
    }
   ],
   "source": [
    "clientes=8\n",
    "cliente=0\n",
    "premio=200\n",
    "cont1=0\n",
    "cont2=0\n",
    "cont3=0\n",
    "clienter=False\n",
    "while cliente<clientes:\n",
    "    clienter=int(input('Introduce 1 si el cliente rebaso los $200 o 2 si no se rebaso '))\n",
    "    if clienter==1:\n",
    "        cont1+=1\n",
    "    elif clienter==2:\n",
    "        cont2+=1\n",
    "    else :\n",
    "        print(\"Introduzca una obción válida\")\n",
    "        cont3+=1\n",
    "        cliente-=1\n",
    "    cliente+=1\n",
    "print(\"\\nLa cantidad de clientes rebasados fue de:\",cont1)\n",
    "print(\"La cantidad de clientes que no se rebaso la meta fue de:\",cont2)\n",
    "print(\"Se ingresaron la siguiente cantidad de datos erroneos:\",cont3)\n",
    "if cont1>4:\n",
    "    print('Se le otorga el premio')\n",
    "else:\n",
    "    print('No se otorga el premio')"
   ]
  },
  {
   "cell_type": "markdown",
   "id": "8c63d1ba-684a-43d3-baca-a9fe05e8f736",
   "metadata": {},
   "source": [
    "2.- Utiliza un f-string para presentar dos columnas como las siguientes."
   ]
  },
  {
   "cell_type": "code",
   "execution_count": 84,
   "id": "c0087614-056c-4b66-acbf-40a8dd1a7d31",
   "metadata": {},
   "outputs": [
    {
     "name": "stdout",
     "output_type": "stream",
     "text": [
      "      Raiz Factorial\n",
      "    1.0000      1.00\n",
      "    1.4142      2.00\n",
      "    1.7321      6.00\n",
      "    2.0000     24.00\n",
      "    2.2361    120.00\n"
     ]
    }
   ],
   "source": [
    "p1='Raiz'\n",
    "p2='Factorial'\n",
    "print(f\"\"\"{p1:>10.4s}{p2:>10.9s}\"\"\")\n",
    "print(f\"\"\"{1:>10.4f}{1:>10.2f}\"\"\")\n",
    "print(f\"\"\"{14142/10000:>10.4f}{2:>10.2f}\"\"\")\n",
    "print(f\"\"\"{17321/10000:>10.4f}{6:>10.2f}\"\"\")\n",
    "print(f\"\"\"{2:>10.4f}{24:>10.2f}\"\"\")\n",
    "print(f\"\"\"{22361/10000:>10.4f}{120:>10.2f}\"\"\")"
   ]
  },
  {
   "cell_type": "markdown",
   "id": "5b7211e5-4fd7-41e1-af5d-dac137177495",
   "metadata": {},
   "source": [
    "3.- Modifica el script anterior, para que ahora los números están alineados de la siguiente forma"
   ]
  },
  {
   "cell_type": "code",
   "execution_count": 85,
   "id": "327266d3-0316-42f7-bfc3-812a465d2bd6",
   "metadata": {},
   "outputs": [
    {
     "name": "stdout",
     "output_type": "stream",
     "text": [
      "      Raiz Factorial\n",
      "    1.0000       1.0\n",
      "    1.4142       2.0\n",
      "    1.7321       6.0\n",
      "    2.0000      24.0\n",
      "    2.2361     120.0\n"
     ]
    }
   ],
   "source": [
    "p1='Raiz'\n",
    "p2='Factorial'\n",
    "print(f\"\"\"{p1:>10.4s}{p2:>10.9s}\"\"\")\n",
    "print(f\"\"\"{1:>10.4f}{1:>10.1f}\"\"\")\n",
    "print(f\"\"\"{14142/10000:>10.4f}{2:>10.1f}\"\"\")\n",
    "print(f\"\"\"{17321/10000:>10.4f}{6:>10.1f}\"\"\")\n",
    "print(f\"\"\"{2:>10.4f}{24:>10.1f}\"\"\")\n",
    "print(f\"\"\"{22361/10000:>10.4f}{120:>10.1f}\"\"\")"
   ]
  },
  {
   "cell_type": "markdown",
   "id": "776c502f-ff63-4e04-a81f-6d226955d870",
   "metadata": {},
   "source": [
    "4.-. ¿Qué es lo que realiza el siguiente código?\n",
    "for row in range(5):\n",
    " for column in range(5):\n",
    " print('a' if row %2==0 else 'b', end=' ')\n",
    " print()"
   ]
  },
  {
   "cell_type": "code",
   "execution_count": 148,
   "id": "995a1362-265f-4815-81d0-e364cbe99b9a",
   "metadata": {},
   "outputs": [
    {
     "name": "stdout",
     "output_type": "stream",
     "text": [
      "a a a a a \n",
      "b b b b b \n",
      "a a a a a \n",
      "b b b b b \n",
      "a a a a a \n"
     ]
    }
   ],
   "source": [
    "for row in range(5):\n",
    "    for column in range(5):\n",
    "        print('a' if row %2==0 else 'b', end=' ')\n",
    "    print()"
   ]
  },
  {
   "cell_type": "markdown",
   "id": "35479c82-0d3a-41cf-a3f4-7f7df4bcd6ea",
   "metadata": {},
   "source": [
    "5.- Modifica el script anterior para que se muestre el siguiente arreglo"
   ]
  },
  {
   "cell_type": "code",
   "execution_count": 147,
   "id": "b7485125-7aa9-4c20-be61-a707d6f374f0",
   "metadata": {},
   "outputs": [
    {
     "name": "stdout",
     "output_type": "stream",
     "text": [
      "0 1 0 1 0 \n",
      "0 1 0 1 0 \n",
      "0 1 0 1 0 \n",
      "0 1 0 1 0 \n",
      "0 1 0 1 0 \n"
     ]
    }
   ],
   "source": [
    "for row in range(5):\n",
    "    for column in range(5):\n",
    "        print('0'if column %2==0 else '1',end=' ')\n",
    "    print()"
   ]
  },
  {
   "cell_type": "markdown",
   "id": "82449556-7a93-4dd8-a249-ecf0df1333df",
   "metadata": {},
   "source": [
    "6.- En el script del problema, la sentencia if se evalúa al verificar si la fila es par. Modifica esta sen\u0002tencia para comparar filas y columnas, para obtener arreglos como los siguiente"
   ]
  },
  {
   "cell_type": "code",
   "execution_count": 163,
   "id": "524cc031-c164-4fbd-bd3b-0c8ce2645d0e",
   "metadata": {},
   "outputs": [
    {
     "name": "stdout",
     "output_type": "stream",
     "text": [
      "1 1 1 1 1 \n",
      "  1 1 1 1 \n",
      "    1 1 1 \n",
      "      1 1 \n",
      "        1 \n"
     ]
    }
   ],
   "source": [
    "for row in range(5):\n",
    "    for column in range(5):\n",
    "        print(' 'if column<row else '1',end=' ')\n",
    "    print()"
   ]
  },
  {
   "cell_type": "code",
   "execution_count": 164,
   "id": "b5e88dc5-3673-45cd-8d4c-d63717b136c3",
   "metadata": {},
   "outputs": [
    {
     "name": "stdout",
     "output_type": "stream",
     "text": [
      "1         \n",
      "1 1       \n",
      "1 1 1     \n",
      "1 1 1 1   \n",
      "1 1 1 1 1 \n"
     ]
    }
   ],
   "source": [
    "for row in range(5):\n",
    "    for column in range(5):\n",
    "        print(' 'if column>row else '1',end=' ')\n",
    "    print()"
   ]
  },
  {
   "cell_type": "markdown",
   "id": "fed8b0de-b316-432e-a7be-95bbe6ff3a0c",
   "metadata": {},
   "source": [
    "7.- ¿Cuánto miden tus amigos? Elabora un programa utilizando la sentencia while, que permita \n",
    "ingresar una cantidad arbitraria de estaturas (todo dependerá de cuantos amigos tengas), para \n",
    "calcular el promedio de la estatura. "
   ]
  },
  {
   "cell_type": "code",
   "execution_count": 169,
   "id": "795fb685-78a4-481f-9066-2bf54a7e17f8",
   "metadata": {},
   "outputs": [
    {
     "name": "stdin",
     "output_type": "stream",
     "text": [
      "Por favor indique cuantos amigos tiene 5\n",
      "Ingresa la estatura de tu amigo 2\n",
      "Ingresa la estatura de tu amigo 2\n",
      "Ingresa la estatura de tu amigo 1\n",
      "Ingresa la estatura de tu amigo 2\n",
      "Ingresa la estatura de tu amigo 2\n"
     ]
    },
    {
     "name": "stdout",
     "output_type": "stream",
     "text": [
      "\n",
      "El promedio de sus estaturas es: 1.8\n"
     ]
    }
   ],
   "source": [
    "cont=0\n",
    "suma=0\n",
    "amigos=int(input('Por favor indique cuantos amigos tiene'))\n",
    "while cont<amigos:\n",
    "    estatura=float(input('Ingresa la estatura de tu amigo'))\n",
    "    suma+=estatura\n",
    "    cont+=1\n",
    "prom=suma/amigos \n",
    "print(\"\\nEl promedio de sus estaturas es:\",prom)"
   ]
  },
  {
   "cell_type": "markdown",
   "id": "1b5744d0-b11a-4735-9648-1c20028f52e8",
   "metadata": {},
   "source": [
    "8.- Elabora un programa que indique cuántos de tus amigos miden lo mismo que tú, pero que \n",
    "también indique cuántos son más altos y cuántos tienen una estatura menor a la tuya."
   ]
  },
  {
   "cell_type": "code",
   "execution_count": 172,
   "id": "4adc89a1-78e0-4a1a-a7b6-6c5957d263f0",
   "metadata": {},
   "outputs": [
    {
     "name": "stdin",
     "output_type": "stream",
     "text": [
      "Por favor indique su estatura 1.67\n",
      "Por favor indique cuantos amigos tiene 5\n",
      "Ingresa la estatura de tu amigo 1.67\n",
      "Ingresa la estatura de tu amigo 1.50\n",
      "Ingresa la estatura de tu amigo 2.00\n",
      "Ingresa la estatura de tu amigo 1.20\n",
      "Ingresa la estatura de tu amigo 1.67\n"
     ]
    },
    {
     "name": "stdout",
     "output_type": "stream",
     "text": [
      "El total de amigos con una estatura IGUAL es de: 2\n",
      "El total de amigos con una estatura MAYOR es de: 1\n",
      "El total de amigos con una estatura MENOR es de: 2\n"
     ]
    }
   ],
   "source": [
    "cont=0\n",
    "cont1=0\n",
    "cont2=0\n",
    "cont3=0\n",
    "suma=0\n",
    "estaturatu=float(input(\"Por favor indique su estatura\"))\n",
    "amigos=int(input('Por favor indique cuantos amigos tiene'))\n",
    "while cont<amigos:\n",
    "    estatura=float(input('Ingresa la estatura de tu amigo'))\n",
    "    cont+=1\n",
    "    if  estatura==estaturatu:\n",
    "        cont1+=1\n",
    "    elif estatura>estaturatu:\n",
    "        cont2+=1\n",
    "    elif estatura<estaturatu:\n",
    "        cont3+=1\n",
    "print(\"El total de amigos con una estatura IGUAL es de:\",cont1)\n",
    "print(\"El total de amigos con una estatura MAYOR es de:\",cont2)\n",
    "print(\"El total de amigos con una estatura MENOR es de:\",cont3)"
   ]
  }
 ],
 "metadata": {
  "kernelspec": {
   "display_name": "Python 3 (ipykernel)",
   "language": "python",
   "name": "python3"
  },
  "language_info": {
   "codemirror_mode": {
    "name": "ipython",
    "version": 3
   },
   "file_extension": ".py",
   "mimetype": "text/x-python",
   "name": "python",
   "nbconvert_exporter": "python",
   "pygments_lexer": "ipython3",
   "version": "3.9.13"
  }
 },
 "nbformat": 4,
 "nbformat_minor": 5
}
