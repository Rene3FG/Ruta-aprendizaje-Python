{
 "cells": [
  {
   "cell_type": "markdown",
   "id": "60e84751-e12f-471a-a779-cd6268b2cafe",
   "metadata": {
    "tags": []
   },
   "source": [
    "# Web Scraping con Python"
   ]
  },
  {
   "cell_type": "markdown",
   "id": "e2e05755-8874-4b1b-b68f-243574073c14",
   "metadata": {},
   "source": [
    "### Librerías"
   ]
  },
  {
   "cell_type": "markdown",
   "id": "5dc5df30-d5b1-4244-b13a-e7bfb769aef5",
   "metadata": {},
   "source": [
    "Vamos a necesitar Selenium, BeautifulSoup y Pandas"
   ]
  },
  {
   "cell_type": "markdown",
   "id": "4781e092-2e23-4a6a-beee-e7baa01de547",
   "metadata": {},
   "source": [
    "Instala Selenium con el siguiente código *conda install -c conda-forge selenium*"
   ]
  },
  {
   "cell_type": "markdown",
   "id": "f26fcb1c-cbdf-404a-b6e8-526b2a81479b",
   "metadata": {},
   "source": [
    "Instala BeautifulSoup con el código *conda install -c anaconda beautifulsoup4*"
   ]
  },
  {
   "cell_type": "markdown",
   "id": "27c2173e-974b-4b77-9c04-349b73f773d4",
   "metadata": {},
   "source": [
    "Ahora Carga Webdriver de Selenium"
   ]
  },
  {
   "cell_type": "code",
   "execution_count": 5,
   "id": "fdefd855-2542-4103-b377-497df841d60a",
   "metadata": {},
   "outputs": [],
   "source": [
    "from selenium import webdriver"
   ]
  },
  {
   "cell_type": "markdown",
   "id": "16d21115-5e77-4893-8225-5de083d94f96",
   "metadata": {},
   "source": [
    "Carga BeautifulSoup de Beautiful Soup"
   ]
  },
  {
   "cell_type": "code",
   "execution_count": 4,
   "id": "1e1cec69-a6f3-4100-aa13-fceb78b62c8f",
   "metadata": {},
   "outputs": [],
   "source": [
    "from bs4 import BeautifulSoup as BS"
   ]
  },
  {
   "cell_type": "markdown",
   "id": "b8a2dd5d-d22f-4566-bd14-659cdaee3197",
   "metadata": {},
   "source": [
    "Y Pandas como PD"
   ]
  },
  {
   "cell_type": "code",
   "execution_count": 3,
   "id": "03da2252-f3c4-42d9-ab86-561744346d97",
   "metadata": {},
   "outputs": [],
   "source": [
    "import pandas as PD"
   ]
  },
  {
   "cell_type": "markdown",
   "id": "fbe2df9a-e83b-4bec-a837-978eb847b023",
   "metadata": {},
   "source": [
    "## Configuración"
   ]
  },
  {
   "cell_type": "markdown",
   "id": "de6f69e5-d9a8-4298-a27e-54800bd3c0bf",
   "metadata": {},
   "source": [
    "Ok, ahora configura webdriver para usar Chrome por default, localiza tu chromedriver y usalo en este comando"
   ]
  },
  {
   "cell_type": "code",
   "execution_count": 6,
   "id": "bc07c1fe-877d-487b-8620-201619c334a4",
   "metadata": {},
   "outputs": [
    {
     "name": "stderr",
     "output_type": "stream",
     "text": [
      "C:\\Users\\bebec\\AppData\\Local\\Temp\\ipykernel_4196\\286026275.py:1: DeprecationWarning: executable_path has been deprecated, please pass in a Service object\n",
      "  driver = webdriver.Chrome(\"D:\\Cursos/chromedriver.exe\")\n"
     ]
    }
   ],
   "source": [
    "driver = webdriver.Chrome(\"D:\\Cursos/chromedriver.exe\")"
   ]
  },
  {
   "cell_type": "markdown",
   "id": "6aea0c37-f62b-4e5a-9437-2fcdecb94c53",
   "metadata": {},
   "source": [
    "Arma 3 listas, una para metros cuadrados, otra para precio y otra para ubicacion"
   ]
  },
  {
   "cell_type": "code",
   "execution_count": 7,
   "id": "1cf22a0d-ba5e-4acd-a71e-d500101b749e",
   "metadata": {},
   "outputs": [],
   "source": [
    "m2sucio=[]\n",
    "preciosucio=[]\n",
    "ubicacionsucio=[]"
   ]
  },
  {
   "cell_type": "code",
   "execution_count": 8,
   "id": "5cddab97-e26e-4186-a774-89c79f3ba5e1",
   "metadata": {},
   "outputs": [],
   "source": [
    "m2=[]\n",
    "precio=[]\n",
    "ubicacion=[]"
   ]
  },
  {
   "cell_type": "markdown",
   "id": "d554199f-de6c-4193-b0bd-2c3f7aa7a0e6",
   "metadata": {},
   "source": [
    "Y arma un driver.get para especificar la página de donde vamos a trabajar"
   ]
  },
  {
   "cell_type": "code",
   "execution_count": 9,
   "id": "2e9e13b8-35da-485d-b0be-b4916778829e",
   "metadata": {},
   "outputs": [],
   "source": [
    "driver.get(\"https://www.inmuebles24.com/terrenos-en-venta-en-fraccionamiento-bugambilias.html\")"
   ]
  },
  {
   "cell_type": "markdown",
   "id": "e76be684-81c9-4620-bac4-a3c841878c06",
   "metadata": {},
   "source": [
    "## Extracción de Datos"
   ]
  },
  {
   "cell_type": "markdown",
   "id": "0e2af542-d356-4ebc-ba56-8329945267f5",
   "metadata": {},
   "source": [
    "Guarda el código HTML de la página en un objeto Contenido"
   ]
  },
  {
   "cell_type": "code",
   "execution_count": 12,
   "id": "100cc676-8746-4af9-ba49-9deaae8ac314",
   "metadata": {},
   "outputs": [],
   "source": [
    "contenido=driver.page_source"
   ]
  },
  {
   "cell_type": "code",
   "execution_count": null,
   "id": "0239e6e0-d497-434f-ab65-402bd9a8bc65",
   "metadata": {},
   "outputs": [],
   "source": []
  },
  {
   "cell_type": "markdown",
   "id": "96838dbf-ae0d-4954-af3a-7b7f6da03ad4",
   "metadata": {},
   "source": [
    "Conviertelo a BeautifulSoup"
   ]
  },
  {
   "cell_type": "code",
   "execution_count": 14,
   "id": "7336ebbb-74e1-480b-975e-32aced23d286",
   "metadata": {},
   "outputs": [],
   "source": [
    "soup=BeautifulSoup(contenido)"
   ]
  },
  {
   "cell_type": "code",
   "execution_count": 15,
   "id": "b503592c-2589-4017-8dd3-206c3c64c4b4",
   "metadata": {},
   "outputs": [
    {
     "data": {
      "text/plain": [
       "<title>Terrenos en venta en Fraccionamiento Bugambilias, Zapopan - Inmuebles24</title>"
      ]
     },
     "execution_count": 15,
     "metadata": {},
     "output_type": "execute_result"
    }
   ],
   "source": [
    "soup.title"
   ]
  },
  {
   "cell_type": "markdown",
   "id": "9c4ca0f2-1aac-4407-b038-88dbcce7fad8",
   "metadata": {},
   "source": [
    "Arma un for en el que vayas agregando a nuestras listas los datos necesarios con a.find, usa . append para ir agregando los datos a las listas"
   ]
  },
  {
   "cell_type": "code",
   "execution_count": 34,
   "id": "c9f36965-a9f8-46d3-a0ec-c69966a079f8",
   "metadata": {},
   "outputs": [],
   "source": [
    "for tarjeta in soup.find_all(\"div\", attrs={\"data-qa\":\"posting PROPERTY\"}):\n",
    "    area = tarjeta.find(\"div\", attrs={\"data-qa\":\"POSTING_CARD_FEATURES\"})\n",
    "    m2sucio.append(area.text)\n",
    "    \n",
    "    MN = tarjeta.find(\"div\", attrs={\"data-qa\":\"POSTING_CARD_PRICE\"})# Descripcion\n",
    "    preciosucio.append(MN.text)\n",
    "    \n",
    "    calle = tarjeta.find(\"div\", attrs={\"data-qa\":\"POSTING_CARD_LOCATION\"})\n",
    "    ubicacionsucio.append(calle.text)  "
   ]
  },
  {
   "cell_type": "code",
   "execution_count": 36,
   "id": "d45d2e5a-ab58-4dbd-bab3-e9a2766aa7f9",
   "metadata": {},
   "outputs": [
    {
     "data": {
      "text/plain": [
       "[' 452 m² ',\n",
       " ' 411 m² ',\n",
       " ' 300 m² ',\n",
       " ' 360 m² ',\n",
       " ' 495 m² ',\n",
       " ' 278 m² ',\n",
       " ' 315 m² ',\n",
       " ' 563 m² ',\n",
       " ' 400 m² ',\n",
       " ' 454 m² ',\n",
       " ' 341 m² ',\n",
       " ' 333 m²  1 m² ',\n",
       " ' 715 m² ',\n",
       " ' 406 m² ',\n",
       " ' 580 m² ',\n",
       " ' 1247 m² ',\n",
       " ' 398 m² ',\n",
       " ' 720 m² ',\n",
       " ' 440 m² ',\n",
       " ' 355 m²  3 estac. ']"
      ]
     },
     "execution_count": 36,
     "metadata": {},
     "output_type": "execute_result"
    }
   ],
   "source": [
    "m2sucio"
   ]
  },
  {
   "cell_type": "code",
   "execution_count": 38,
   "id": "f1333e75-480c-4511-aa70-9a94b601c59d",
   "metadata": {},
   "outputs": [
    {
     "data": {
      "text/plain": [
       "['MN 3,840,000',\n",
       " 'MN 3,495,000',\n",
       " 'MN 2,880,000',\n",
       " 'MN 3,924,000',\n",
       " 'MN 4,699,000',\n",
       " 'MN 2,780,000',\n",
       " 'MN 3,600,000',\n",
       " 'MN 5,250,000',\n",
       " 'MN 3,600,000',\n",
       " 'MN 5,700,000',\n",
       " 'MN 3,180,000',\n",
       " 'MN 3,180,000',\n",
       " 'MN 5,460,000',\n",
       " 'MN 3,800,000',\n",
       " 'MN 4,350,000',\n",
       " 'MN 8,500,000',\n",
       " 'MN 3,986,200',\n",
       " 'MN 5,980,000',\n",
       " 'MN 3,300,000',\n",
       " 'MN 4,800,000']"
      ]
     },
     "execution_count": 38,
     "metadata": {},
     "output_type": "execute_result"
    }
   ],
   "source": [
    "preciosucio"
   ]
  },
  {
   "cell_type": "code",
   "execution_count": 39,
   "id": "e76f7233-c962-488c-bfcd-fcced531d220",
   "metadata": {},
   "outputs": [
    {
     "data": {
      "text/plain": [
       "['Fraccionamiento Bugambilias, Zapopan',\n",
       " 'Fraccionamiento Bugambilias, Zapopan',\n",
       " 'Fraccionamiento Bugambilias, Zapopan',\n",
       " 'Fraccionamiento Bugambilias, Zapopan',\n",
       " 'Fraccionamiento Bugambilias, Zapopan',\n",
       " 'Fraccionamiento Bugambilias, Zapopan',\n",
       " 'Fraccionamiento Bugambilias, Zapopan',\n",
       " 'Fraccionamiento Bugambilias, Zapopan',\n",
       " 'Fraccionamiento Bugambilias, Zapopan',\n",
       " 'Fraccionamiento Bugambilias, Zapopan',\n",
       " 'Fraccionamiento Bugambilias, Zapopan',\n",
       " 'Fraccionamiento Bugambilias, Zapopan',\n",
       " 'Fraccionamiento Bugambilias, Zapopan',\n",
       " 'Fraccionamiento Bugambilias, Zapopan',\n",
       " 'Fraccionamiento Bugambilias, Zapopan',\n",
       " 'Fraccionamiento Bugambilias, Zapopan',\n",
       " 'Fraccionamiento Bugambilias, Zapopan',\n",
       " 'Fraccionamiento Bugambilias, Zapopan',\n",
       " 'Fraccionamiento Bugambilias, Zapopan',\n",
       " 'Fraccionamiento Bugambilias, Zapopan']"
      ]
     },
     "execution_count": 39,
     "metadata": {},
     "output_type": "execute_result"
    }
   ],
   "source": [
    "ubicacionsucio"
   ]
  },
  {
   "cell_type": "code",
   "execution_count": null,
   "id": "afbd0914-7031-4bff-a041-c74272d20cdb",
   "metadata": {},
   "outputs": [],
   "source": []
  },
  {
   "cell_type": "markdown",
   "id": "89b0739a-0f57-4a16-8e1b-e47f686ef53e",
   "metadata": {},
   "source": [
    "Arma un for para limpiar precio"
   ]
  },
  {
   "cell_type": "code",
   "execution_count": null,
   "id": "bd68a15a-9db7-4712-b303-a421f8709678",
   "metadata": {},
   "outputs": [],
   "source": [
    "for MN in preciosucio:\n",
    "    precio.append(MN.replace(\"\\n\",\"\").replace(MN.replace(\"\\t\",\"\")))"
   ]
  },
  {
   "cell_type": "code",
   "execution_count": null,
   "id": "d8431595-c04e-4399-ab4d-e00263095400",
   "metadata": {},
   "outputs": [],
   "source": []
  },
  {
   "cell_type": "markdown",
   "id": "fbcc4ee5-cf4c-466e-ae5f-ff319d4ee061",
   "metadata": {},
   "source": [
    "Arma un for para limpiar ubicación"
   ]
  },
  {
   "cell_type": "code",
   "execution_count": null,
   "id": "cfd1c8ec-655e-493a-8a02-da3a3ce12d8b",
   "metadata": {},
   "outputs": [],
   "source": [
    "for calle in ubicacionsucio:\n",
    "    ubicacion.append(calle.replace(\"\\n\",\"\").replace(calle.replace(\"\\t\",\"\")))"
   ]
  },
  {
   "cell_type": "code",
   "execution_count": null,
   "id": "cb6f049a-4e02-4066-90f3-07952b0b3441",
   "metadata": {},
   "outputs": [],
   "source": []
  },
  {
   "cell_type": "markdown",
   "id": "4bef1b0b-2f8b-448c-8301-9d318500d69e",
   "metadata": {},
   "source": [
    "Arma un for para limpiar m2"
   ]
  },
  {
   "cell_type": "code",
   "execution_count": null,
   "id": "702b5bb0-7e61-43de-91cd-165bb14fa285",
   "metadata": {},
   "outputs": [],
   "source": [
    "for area in m2sucio:\n",
    "    m2.append(area.replace(\"\\n\",\"\").replace(area.replace(\"\\t\",\"\")))"
   ]
  },
  {
   "cell_type": "code",
   "execution_count": null,
   "id": "4f25c639-fa24-470f-9957-8de8a3bd7153",
   "metadata": {},
   "outputs": [],
   "source": [
    "m2"
   ]
  },
  {
   "cell_type": "markdown",
   "id": "3c448576-866a-4159-91b0-c73244f54128",
   "metadata": {},
   "source": [
    "## Almacenamiento"
   ]
  },
  {
   "cell_type": "markdown",
   "id": "b0c0ea92-8e81-418c-bb79-6ef5643f558a",
   "metadata": {},
   "source": [
    "Guarda tus datos en un dataframe"
   ]
  },
  {
   "cell_type": "code",
   "execution_count": 44,
   "id": "af5a6677-24ad-47e6-808b-f8ca9c878d76",
   "metadata": {},
   "outputs": [],
   "source": [
    "df = PD.DataFrame({\"Ubicacion\":ubicacionsucio,\"Precio\":preciosucio,\"Area\":m2sucio})"
   ]
  },
  {
   "cell_type": "code",
   "execution_count": 45,
   "id": "dc17fdda-3e34-4254-9c8a-e14988d97341",
   "metadata": {},
   "outputs": [
    {
     "data": {
      "text/html": [
       "<div>\n",
       "<style scoped>\n",
       "    .dataframe tbody tr th:only-of-type {\n",
       "        vertical-align: middle;\n",
       "    }\n",
       "\n",
       "    .dataframe tbody tr th {\n",
       "        vertical-align: top;\n",
       "    }\n",
       "\n",
       "    .dataframe thead th {\n",
       "        text-align: right;\n",
       "    }\n",
       "</style>\n",
       "<table border=\"1\" class=\"dataframe\">\n",
       "  <thead>\n",
       "    <tr style=\"text-align: right;\">\n",
       "      <th></th>\n",
       "      <th>Ubicacion</th>\n",
       "      <th>Precio</th>\n",
       "      <th>Area</th>\n",
       "    </tr>\n",
       "  </thead>\n",
       "  <tbody>\n",
       "    <tr>\n",
       "      <th>0</th>\n",
       "      <td>Fraccionamiento Bugambilias, Zapopan</td>\n",
       "      <td>MN 3,840,000</td>\n",
       "      <td>452 m²</td>\n",
       "    </tr>\n",
       "    <tr>\n",
       "      <th>1</th>\n",
       "      <td>Fraccionamiento Bugambilias, Zapopan</td>\n",
       "      <td>MN 3,495,000</td>\n",
       "      <td>411 m²</td>\n",
       "    </tr>\n",
       "    <tr>\n",
       "      <th>2</th>\n",
       "      <td>Fraccionamiento Bugambilias, Zapopan</td>\n",
       "      <td>MN 2,880,000</td>\n",
       "      <td>300 m²</td>\n",
       "    </tr>\n",
       "    <tr>\n",
       "      <th>3</th>\n",
       "      <td>Fraccionamiento Bugambilias, Zapopan</td>\n",
       "      <td>MN 3,924,000</td>\n",
       "      <td>360 m²</td>\n",
       "    </tr>\n",
       "    <tr>\n",
       "      <th>4</th>\n",
       "      <td>Fraccionamiento Bugambilias, Zapopan</td>\n",
       "      <td>MN 4,699,000</td>\n",
       "      <td>495 m²</td>\n",
       "    </tr>\n",
       "    <tr>\n",
       "      <th>5</th>\n",
       "      <td>Fraccionamiento Bugambilias, Zapopan</td>\n",
       "      <td>MN 2,780,000</td>\n",
       "      <td>278 m²</td>\n",
       "    </tr>\n",
       "    <tr>\n",
       "      <th>6</th>\n",
       "      <td>Fraccionamiento Bugambilias, Zapopan</td>\n",
       "      <td>MN 3,600,000</td>\n",
       "      <td>315 m²</td>\n",
       "    </tr>\n",
       "    <tr>\n",
       "      <th>7</th>\n",
       "      <td>Fraccionamiento Bugambilias, Zapopan</td>\n",
       "      <td>MN 5,250,000</td>\n",
       "      <td>563 m²</td>\n",
       "    </tr>\n",
       "    <tr>\n",
       "      <th>8</th>\n",
       "      <td>Fraccionamiento Bugambilias, Zapopan</td>\n",
       "      <td>MN 3,600,000</td>\n",
       "      <td>400 m²</td>\n",
       "    </tr>\n",
       "    <tr>\n",
       "      <th>9</th>\n",
       "      <td>Fraccionamiento Bugambilias, Zapopan</td>\n",
       "      <td>MN 5,700,000</td>\n",
       "      <td>454 m²</td>\n",
       "    </tr>\n",
       "    <tr>\n",
       "      <th>10</th>\n",
       "      <td>Fraccionamiento Bugambilias, Zapopan</td>\n",
       "      <td>MN 3,180,000</td>\n",
       "      <td>341 m²</td>\n",
       "    </tr>\n",
       "    <tr>\n",
       "      <th>11</th>\n",
       "      <td>Fraccionamiento Bugambilias, Zapopan</td>\n",
       "      <td>MN 3,180,000</td>\n",
       "      <td>333 m²  1 m²</td>\n",
       "    </tr>\n",
       "    <tr>\n",
       "      <th>12</th>\n",
       "      <td>Fraccionamiento Bugambilias, Zapopan</td>\n",
       "      <td>MN 5,460,000</td>\n",
       "      <td>715 m²</td>\n",
       "    </tr>\n",
       "    <tr>\n",
       "      <th>13</th>\n",
       "      <td>Fraccionamiento Bugambilias, Zapopan</td>\n",
       "      <td>MN 3,800,000</td>\n",
       "      <td>406 m²</td>\n",
       "    </tr>\n",
       "    <tr>\n",
       "      <th>14</th>\n",
       "      <td>Fraccionamiento Bugambilias, Zapopan</td>\n",
       "      <td>MN 4,350,000</td>\n",
       "      <td>580 m²</td>\n",
       "    </tr>\n",
       "    <tr>\n",
       "      <th>15</th>\n",
       "      <td>Fraccionamiento Bugambilias, Zapopan</td>\n",
       "      <td>MN 8,500,000</td>\n",
       "      <td>1247 m²</td>\n",
       "    </tr>\n",
       "    <tr>\n",
       "      <th>16</th>\n",
       "      <td>Fraccionamiento Bugambilias, Zapopan</td>\n",
       "      <td>MN 3,986,200</td>\n",
       "      <td>398 m²</td>\n",
       "    </tr>\n",
       "    <tr>\n",
       "      <th>17</th>\n",
       "      <td>Fraccionamiento Bugambilias, Zapopan</td>\n",
       "      <td>MN 5,980,000</td>\n",
       "      <td>720 m²</td>\n",
       "    </tr>\n",
       "    <tr>\n",
       "      <th>18</th>\n",
       "      <td>Fraccionamiento Bugambilias, Zapopan</td>\n",
       "      <td>MN 3,300,000</td>\n",
       "      <td>440 m²</td>\n",
       "    </tr>\n",
       "    <tr>\n",
       "      <th>19</th>\n",
       "      <td>Fraccionamiento Bugambilias, Zapopan</td>\n",
       "      <td>MN 4,800,000</td>\n",
       "      <td>355 m²  3 estac.</td>\n",
       "    </tr>\n",
       "  </tbody>\n",
       "</table>\n",
       "</div>"
      ],
      "text/plain": [
       "                               Ubicacion        Precio                Area\n",
       "0   Fraccionamiento Bugambilias, Zapopan  MN 3,840,000             452 m² \n",
       "1   Fraccionamiento Bugambilias, Zapopan  MN 3,495,000             411 m² \n",
       "2   Fraccionamiento Bugambilias, Zapopan  MN 2,880,000             300 m² \n",
       "3   Fraccionamiento Bugambilias, Zapopan  MN 3,924,000             360 m² \n",
       "4   Fraccionamiento Bugambilias, Zapopan  MN 4,699,000             495 m² \n",
       "5   Fraccionamiento Bugambilias, Zapopan  MN 2,780,000             278 m² \n",
       "6   Fraccionamiento Bugambilias, Zapopan  MN 3,600,000             315 m² \n",
       "7   Fraccionamiento Bugambilias, Zapopan  MN 5,250,000             563 m² \n",
       "8   Fraccionamiento Bugambilias, Zapopan  MN 3,600,000             400 m² \n",
       "9   Fraccionamiento Bugambilias, Zapopan  MN 5,700,000             454 m² \n",
       "10  Fraccionamiento Bugambilias, Zapopan  MN 3,180,000             341 m² \n",
       "11  Fraccionamiento Bugambilias, Zapopan  MN 3,180,000       333 m²  1 m² \n",
       "12  Fraccionamiento Bugambilias, Zapopan  MN 5,460,000             715 m² \n",
       "13  Fraccionamiento Bugambilias, Zapopan  MN 3,800,000             406 m² \n",
       "14  Fraccionamiento Bugambilias, Zapopan  MN 4,350,000             580 m² \n",
       "15  Fraccionamiento Bugambilias, Zapopan  MN 8,500,000            1247 m² \n",
       "16  Fraccionamiento Bugambilias, Zapopan  MN 3,986,200             398 m² \n",
       "17  Fraccionamiento Bugambilias, Zapopan  MN 5,980,000             720 m² \n",
       "18  Fraccionamiento Bugambilias, Zapopan  MN 3,300,000             440 m² \n",
       "19  Fraccionamiento Bugambilias, Zapopan  MN 4,800,000   355 m²  3 estac. "
      ]
     },
     "execution_count": 45,
     "metadata": {},
     "output_type": "execute_result"
    }
   ],
   "source": [
    "df.head(20)"
   ]
  },
  {
   "cell_type": "markdown",
   "id": "5fc17341-c493-4a5f-9076-6863992a28ce",
   "metadata": {},
   "source": [
    "Exporta tu Dataframe a un archivo CSV y abrelo en Excel"
   ]
  },
  {
   "cell_type": "code",
   "execution_count": 46,
   "id": "86dba992-5383-4ba2-b80b-24ce81c5d4d1",
   "metadata": {},
   "outputs": [],
   "source": [
    "df.to_csv(\"terrenos2.csv\",index=False,encoding=\"utf-8\")"
   ]
  }
 ],
 "metadata": {
  "kernelspec": {
   "display_name": "Python 3 (ipykernel)",
   "language": "python",
   "name": "python3"
  },
  "language_info": {
   "codemirror_mode": {
    "name": "ipython",
    "version": 3
   },
   "file_extension": ".py",
   "mimetype": "text/x-python",
   "name": "python",
   "nbconvert_exporter": "python",
   "pygments_lexer": "ipython3",
   "version": "3.9.13"
  }
 },
 "nbformat": 4,
 "nbformat_minor": 5
}
